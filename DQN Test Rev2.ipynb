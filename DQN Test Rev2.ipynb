{
 "cells": [
  {
   "cell_type": "code",
   "execution_count": 1,
   "id": "45903055",
   "metadata": {},
   "outputs": [
    {
     "data": {
      "text/html": [
       "<style>.container { width:90% !important; }</style>"
      ],
      "text/plain": [
       "<IPython.core.display.HTML object>"
      ]
     },
     "metadata": {},
     "output_type": "display_data"
    }
   ],
   "source": [
    "# Makes the display take up more of the screen\n",
    "from IPython.core.display import display, HTML\n",
    "display(HTML(\"<style>.container { width:90% !important; }</style>\"))"
   ]
  },
  {
   "cell_type": "code",
   "execution_count": 2,
   "id": "24f6fcf1",
   "metadata": {},
   "outputs": [],
   "source": [
    "import gym\n",
    "import cv2\n",
    "import os\n",
    "import time\n",
    "import json\n",
    "import random\n",
    "import collections\n",
    "import numpy as np\n",
    "\n",
    "import torch as T\n",
    "import torch.nn as nn\n",
    "import torch.optim as optim\n",
    "import torch.nn.functional as F\n",
    "\n",
    "from collections import deque"
   ]
  },
  {
   "cell_type": "code",
   "execution_count": 3,
   "id": "d1d727de",
   "metadata": {},
   "outputs": [],
   "source": [
    "import seaborn as sns\n",
    "import matplotlib\n",
    "import matplotlib.pyplot as plt\n",
    "\n",
    "sns.set_style(\"white\")\n",
    "%matplotlib inline"
   ]
  },
  {
   "cell_type": "code",
   "execution_count": 4,
   "id": "8d4cf4c1",
   "metadata": {},
   "outputs": [],
   "source": [
    "import sys"
   ]
  },
  {
   "cell_type": "code",
   "execution_count": 5,
   "id": "329ffffd",
   "metadata": {},
   "outputs": [],
   "source": [
    "sys.path.append(os.path.dirname(os.getcwd()))"
   ]
  },
  {
   "cell_type": "code",
   "execution_count": 6,
   "id": "9b4661f3",
   "metadata": {},
   "outputs": [],
   "source": [
    "from nb_NeuralNetwork import ModelMaker"
   ]
  },
  {
   "cell_type": "code",
   "execution_count": 7,
   "id": "b4cfc611",
   "metadata": {},
   "outputs": [],
   "source": [
    "from nb_ReplayBuffer import ReplayBuffer"
   ]
  },
  {
   "cell_type": "code",
   "execution_count": 8,
   "id": "017019ff",
   "metadata": {},
   "outputs": [],
   "source": [
    "class DeepQNetwork(nn.Module):\n",
    "    def __init__(self, lr, n_actions, name, input_dims, chkpt_dir, dropout):\n",
    "        super(DeepQNetwork, self).__init__()\n",
    "        self.checkpoint_dir = chkpt_dir\n",
    "        self.checkpoint_file = os.path.join(self.checkpoint_dir, name)\n",
    "        self.dropout = dropout\n",
    "        self.model = ModelMaker(arch='tf_mobilenetv3_small_075',\n",
    "                                input_channels=input_dims[0],\n",
    "                                num_outputs=n_actions, dropout=self.dropout)        \n",
    "\n",
    "        self.optimizer = optim.RMSprop(self.parameters(), lr=lr)\n",
    "\n",
    "        self.loss = nn.MSELoss()\n",
    "        self.device = T.device('cuda:0' if T.cuda.is_available() else 'cpu')\n",
    "        self.to(self.device)\n",
    "\n",
    "    def forward(self, state):\n",
    "        \n",
    "        actions = self.model(state)\n",
    "\n",
    "        return actions\n",
    "\n",
    "    def save_checkpoint(self):\n",
    "        print('... saving checkpoint ...')\n",
    "        T.save(self.state_dict(), self.checkpoint_file)\n",
    "\n",
    "    def load_checkpoint(self):\n",
    "        print('... loading checkpoint ...')\n",
    "        self.load_state_dict(T.load(self.checkpoint_file))"
   ]
  },
  {
   "cell_type": "code",
   "execution_count": null,
   "id": "62232618",
   "metadata": {},
   "outputs": [],
   "source": [
    "class DQNAgent(object):\n",
    "    def __init__(self, gamma, epsilon, lr, n_actions, input_dims,\n",
    "                 memory_size, batch_size, eps_min=0.01, eps_dec=5e-7,\n",
    "                 dropout_min=0.0001, dropout_max=0.2\n",
    "                 replace=1000, algo=None, env_name=None, chkpt_dir='tmp/dqn'):\n",
    "        self.gamma = gamma\n",
    "        self.epsilon = epsilon\n",
    "        self.lr = lr\n",
    "        self.n_actions = n_actions\n",
    "        self.input_dims = input_dims\n",
    "        self.batch_size = batch_size\n",
    "        self.eps_min = eps_min\n",
    "        self.eps_dec = eps_dec\n",
    "        self.dropout_min = dropout_min\n",
    "        self.dropout = dropout_min\n",
    "        self.dropout_max = dropout_max\n",
    "        self.replace_target_count = replace\n",
    "        self.algo = algo\n",
    "        self.env_name = env_name\n",
    "        self.chkpt_dir = chkpt_dir\n",
    "        self.action_space = [i for i in range(n_actions)]\n",
    "        self.learn_step_counter = 0\n",
    "\n",
    "        self.memory = ReplayBuffer(memory_size, input_dims, n_actions)\n",
    "\n",
    "        self.q_eval = DeepQNetwork(self.lr, self.n_actions,\n",
    "                                    input_dims=self.input_dims,\n",
    "                                    name=self.env_name+'_'+self.algo+'_q_eval',\n",
    "                                    chkpt_dir=self.chkpt_dir, dropout=self.dropout)\n",
    "\n",
    "        self.q_next = DeepQNetwork(self.lr, self.n_actions,\n",
    "                                    input_dims=self.input_dims,\n",
    "                                    name=self.env_name+'_'+self.algo+'_q_next',\n",
    "                                    chkpt_dir=self.chkpt_dir, dropout=self.dropout)\n",
    "\n",
    "    def choose_action(self, observation):\n",
    "        if np.random.random() > self.epsilon:\n",
    "            state = T.tensor([observation],dtype=T.float).to(self.q_eval.device)\n",
    "            self.q_eval.eval()\n",
    "            actions = self.q_eval.forward(state)\n",
    "            self.q_eval.train()\n",
    "            action = T.argmax(actions).item()\n",
    "        else:\n",
    "            action = np.random.choice(self.action_space)\n",
    "\n",
    "        return action\n",
    "\n",
    "    def store_transition(self, state, action, reward, state_, done):\n",
    "        self.memory.store_transition(state, action, reward, state_, done)\n",
    "\n",
    "    def sample_memory(self):\n",
    "        state, action, reward, new_state, done = \\\n",
    "                                self.memory.sample_buffer(self.batch_size)\n",
    "\n",
    "        states = T.tensor(state).to(self.q_eval.device)\n",
    "        rewards = T.tensor(reward).to(self.q_eval.device)\n",
    "        dones = T.tensor(done).to(self.q_eval.device)\n",
    "        actions = T.tensor(action).to(self.q_eval.device)\n",
    "        states_ = T.tensor(new_state).to(self.q_eval.device)\n",
    "\n",
    "        return states, actions, rewards, states_, dones\n",
    "\n",
    "    def replace_target_network(self):\n",
    "        if self.learn_step_counter % self.replace_target_count == 0:\n",
    "            self.q_next.load_state_dict(self.q_eval.state_dict())\n",
    "\n",
    "    def decrement_epsilon(self):\n",
    "        if self.epsilon > self.eps_min:\n",
    "            self.epsilon = self.epsilon - self.eps_dec \n",
    "        else: self.eps_min\n",
    "            \n",
    "    def update_dropout(self, model):\n",
    "        for name, child in model.named_children():\n",
    "            if isinstance(child, T.nn.Dropout):\n",
    "                child.p=self.dropout\n",
    "    \n",
    "    def increase_dropout(self):\n",
    "        if self.epsilon == self.eps_min and self.dropout<=self.dropout_max:            \n",
    "            self.dropout *= 1.001\n",
    "        else: self.dropout\n",
    "\n",
    "    def save_models(self):\n",
    "        self.q_eval.save_checkpoint()\n",
    "        self.q_next.save_checkpoint()\n",
    "\n",
    "    def load_models(self):\n",
    "        self.q_eval.load_checkpoint()\n",
    "        self.q_next.load_checkpoint()\n",
    "\n",
    "    def learn(self):\n",
    "        if self.memory.memory_counter < self.batch_size:\n",
    "            return\n",
    "\n",
    "        self.q_eval.optimizer.zero_grad()\n",
    "\n",
    "        self.replace_target_network()\n",
    "\n",
    "        states, actions, rewards, states_, dones = self.sample_memory()\n",
    "        indices = np.arange(self.batch_size)\n",
    "\n",
    "        q_pred = self.q_eval.forward(states)[indices, actions]\n",
    "        q_next = self.q_next.forward(states_).max(dim=1)[0]\n",
    "\n",
    "        q_next[dones] = 0.0\n",
    "        q_target = rewards + self.gamma*q_next\n",
    "\n",
    "        loss = self.q_eval.loss(q_target, q_pred).to(self.q_eval.device)\n",
    "        loss.backward()\n",
    "        self.q_eval.optimizer.step()\n",
    "        self.learn_step_counter += 1\n",
    "\n",
    "        self.decrement_epsilon()\n",
    "        self.increase_dropout()"
   ]
  },
  {
   "cell_type": "code",
   "execution_count": 10,
   "id": "d57cb26d",
   "metadata": {},
   "outputs": [],
   "source": [
    "class RepeatActionAndMaxFrame(gym.Wrapper):\n",
    "    def __init__(self, env=None, repeat=4, clip_reward=False, no_ops=0,\n",
    "                 fire_first=False):\n",
    "        super(RepeatActionAndMaxFrame, self).__init__(env)\n",
    "        self.repeat = repeat\n",
    "        self.shape = env.observation_space.low.shape\n",
    "        self.frame_buffer = np.zeros_like((2, self.shape))\n",
    "        self.clip_reward = clip_reward\n",
    "        self.no_ops = no_ops\n",
    "        self.fire_first = fire_first\n",
    "\n",
    "    def step(self, action):\n",
    "        t_reward = 0.0\n",
    "        done = False\n",
    "        for i in range(self.repeat):\n",
    "            obs, reward, done, info = self.env.step(action)\n",
    "            if self.clip_reward:\n",
    "                reward = np.clip(np.array([reward]), -1, 1)[0]\n",
    "            t_reward += reward\n",
    "            idx = i % 2\n",
    "            self.frame_buffer[idx] = obs\n",
    "            if done:\n",
    "                break\n",
    "\n",
    "        max_frame = np.maximum(self.frame_buffer[0], self.frame_buffer[1])\n",
    "        return max_frame, t_reward, done, info\n",
    "\n",
    "    def reset(self):\n",
    "        obs = self.env.reset()\n",
    "        no_ops = np.random.randint(self.no_ops)+1 if self.no_ops > 0 else 0\n",
    "        for _ in range(no_ops):\n",
    "            _, _, done, _ = self.env.step(0)\n",
    "            if done:\n",
    "                self.env.reset()\n",
    "        if self.fire_first:\n",
    "            assert self.env.unwrapped.get_action_meanings()[1] == 'FIRE'\n",
    "            obs, _, _, _ = self.env.step(1)\n",
    "\n",
    "        self.frame_buffer = np.zeros_like((2,self.shape))\n",
    "        self.frame_buffer[0] = obs\n",
    "\n",
    "        return obs"
   ]
  },
  {
   "cell_type": "code",
   "execution_count": 11,
   "id": "39b24da7",
   "metadata": {},
   "outputs": [],
   "source": [
    "class PreprocessFrame(gym.ObservationWrapper):\n",
    "    def __init__(self, shape, env=None):\n",
    "        super(PreprocessFrame, self).__init__(env)\n",
    "        self.shape = (shape[2], shape[0], shape[1])\n",
    "        self.observation_space = gym.spaces.Box(low=0.0, high=1.0,\n",
    "                                    shape=self.shape, dtype=np.float32)\n",
    "\n",
    "    def observation(self, obs):\n",
    "        new_frame = cv2.cvtColor(obs, cv2.COLOR_RGB2GRAY)\n",
    "        resized_screen = cv2.resize(new_frame, self.shape[1:],\n",
    "                                    interpolation=cv2.INTER_AREA)\n",
    "        new_obs = np.array(resized_screen, dtype=np.uint8).reshape(self.shape)\n",
    "        new_obs = ((new_obs / 255.0)-0.5)/0.5 # normalize by IMAGENET INCEPTION MEAN and STD\n",
    "\n",
    "        return new_obs"
   ]
  },
  {
   "cell_type": "code",
   "execution_count": 12,
   "id": "59668d59",
   "metadata": {},
   "outputs": [],
   "source": [
    "class StackFrames(gym.ObservationWrapper):\n",
    "    def __init__(self, env, repeat):\n",
    "        super(StackFrames, self).__init__(env)\n",
    "        self.observation_space = gym.spaces.Box(\n",
    "                            env.observation_space.low.repeat(repeat, axis=0),\n",
    "                            env.observation_space.high.repeat(repeat, axis=0),\n",
    "                            dtype=np.float32)\n",
    "        self.stack = collections.deque(maxlen=repeat)\n",
    "\n",
    "    def reset(self):\n",
    "        self.stack.clear()\n",
    "        observation = self.env.reset()\n",
    "        for _ in range(self.stack.maxlen):\n",
    "            self.stack.append(observation)\n",
    "\n",
    "        return np.array(self.stack).reshape(self.observation_space.low.shape)\n",
    "\n",
    "    def observation(self, observation):\n",
    "        self.stack.append(observation)\n",
    "\n",
    "        return np.array(self.stack).reshape(self.observation_space.low.shape)"
   ]
  },
  {
   "cell_type": "code",
   "execution_count": 13,
   "id": "b8ba51cd",
   "metadata": {},
   "outputs": [],
   "source": [
    "def make_env(env_name, shape=(84,84,1), repeat=4, clip_rewards=False,\n",
    "             no_ops=0, fire_first=False):\n",
    "    env = gym.make(env_name)\n",
    "    env = RepeatActionAndMaxFrame(env, repeat, clip_rewards, no_ops, fire_first)\n",
    "    env = PreprocessFrame(shape, env)\n",
    "    env = StackFrames(env, repeat)\n",
    "\n",
    "    return env"
   ]
  },
  {
   "cell_type": "code",
   "execution_count": 14,
   "id": "2e30bba8",
   "metadata": {},
   "outputs": [
    {
     "name": "stderr",
     "output_type": "stream",
     "text": [
      "<string>:6: VisibleDeprecationWarning: Creating an ndarray from ragged nested sequences (which is a list-or-tuple of lists-or-tuples-or ndarrays with different lengths or shapes) is deprecated. If you meant to do this, you must specify 'dtype=object' when creating the ndarray\n"
     ]
    }
   ],
   "source": [
    "env = make_env('PongNoFrameskip-v4')"
   ]
  },
  {
   "cell_type": "code",
   "execution_count": 23,
   "id": "ccc09322",
   "metadata": {},
   "outputs": [],
   "source": [
    "# Things to Check\n",
    "# dropout\n",
    "# inputsize works 48x48 vs 224x224\n",
    "# CNN layers frozen\n",
    "# head unfrozen\n",
    "# Image Normalization mean= 0.5 std=0.5 from https://github.com/rwightman/pytorch-image-models/blob/master/timm/models/mobilenetv3.py"
   ]
  },
  {
   "cell_type": "code",
   "execution_count": null,
   "id": "57007722",
   "metadata": {},
   "outputs": [],
   "source": []
  },
  {
   "cell_type": "code",
   "execution_count": 15,
   "id": "c3384fe2",
   "metadata": {},
   "outputs": [],
   "source": [
    "best_score = -np.inf\n",
    "load_checkpoint = False\n",
    "n_games = 250\n",
    "\n",
    "agent = DQNAgent(gamma=0.99, epsilon=1, lr=0.0001,\n",
    "                 input_dims=(env.observation_space.shape),\n",
    "                 n_actions=env.action_space.n, memory_size=50000, eps_min=0.1,\n",
    "                 batch_size=32, replace=1000, eps_dec=1e-5,\n",
    "                 chkpt_dir='models/', algo='DQNAgent_PT',\n",
    "                 env_name='PongNoFrameskip-v4')\n",
    "\n",
    "if load_checkpoint:\n",
    "    agent.load_models()\n",
    "\n",
    "fname = agent.algo + '_' + agent.env_name + '_lr' + str(agent.lr) +'_' \\\n",
    "        + str(n_games) + 'games'\n",
    "figure_file = 'plots/' + fname + '.png'\n",
    "# if you want to record video of your agent playing, do a mkdir tmp && mkdir tmp/dqn-video\n",
    "# and uncomment the following 2 lines.\n",
    "#env = wrappers.Monitor(env, \"tmp/dqn-video\",\n",
    "#                    video_callable=lambda episode_id: True, force=True)\n",
    "n_steps = 0\n",
    "scores, eps_history, steps_array = [], [], []"
   ]
  },
  {
   "cell_type": "code",
   "execution_count": 16,
   "id": "00977d15",
   "metadata": {},
   "outputs": [
    {
     "data": {
      "text/plain": [
       "(6, (4, 84, 84))"
      ]
     },
     "execution_count": 16,
     "metadata": {},
     "output_type": "execute_result"
    }
   ],
   "source": [
    "n_actions=env.action_space.n; \n",
    "input_dims=(env.observation_space.shape); \n",
    "n_actions, input_dims"
   ]
  },
  {
   "cell_type": "code",
   "execution_count": 17,
   "id": "809ce0cf",
   "metadata": {},
   "outputs": [],
   "source": [
    "model_vals=agent.q_eval.state_dict().copy()"
   ]
  },
  {
   "cell_type": "code",
   "execution_count": 18,
   "id": "58e901de",
   "metadata": {
    "scrolled": true
   },
   "outputs": [
    {
     "name": "stderr",
     "output_type": "stream",
     "text": [
      "C:\\Users\\M323742\\Anaconda3\\envs\\gym\\lib\\site-packages\\ipykernel_launcher.py:34: UserWarning: Creating a tensor from a list of numpy.ndarrays is extremely slow. Please consider converting the list to a single numpy.ndarray with numpy.array() before converting to a tensor. (Triggered internally at  ..\\torch\\csrc\\utils\\tensor_new.cpp:201.)\n"
     ]
    },
    {
     "name": "stdout",
     "output_type": "stream",
     "text": [
      "episode:  0 score:  -20.0  average score -20.0 best score -inf epsilon 0.99 steps 978\n",
      "... saving checkpoint ...\n",
      "... saving checkpoint ...\n",
      "episode:  1 score:  -21.0  average score -20.5 best score -20.00 epsilon 0.98 steps 1813\n",
      "episode:  2 score:  -21.0  average score -20.7 best score -20.00 epsilon 0.97 steps 2655\n",
      "episode:  3 score:  -19.0  average score -20.2 best score -20.00 epsilon 0.96 steps 3772\n",
      "episode:  4 score:  -19.0  average score -20.0 best score -20.00 epsilon 0.95 steps 4913\n",
      "episode:  5 score:  -21.0  average score -20.2 best score -20.00 epsilon 0.94 steps 5733\n",
      "episode:  6 score:  -21.0  average score -20.3 best score -20.00 epsilon 0.93 steps 6553\n",
      "episode:  7 score:  -21.0  average score -20.4 best score -20.00 epsilon 0.93 steps 7476\n",
      "episode:  8 score:  -18.0  average score -20.1 best score -20.00 epsilon 0.91 steps 8579\n",
      "episode:  9 score:  -20.0  average score -20.1 best score -20.00 epsilon 0.90 steps 9756\n",
      "episode:  10 score:  -21.0  average score -20.2 best score -20.00 epsilon 0.89 steps 10608\n",
      "episode:  11 score:  -20.0  average score -20.2 best score -20.00 epsilon 0.88 steps 11624\n",
      "episode:  12 score:  -20.0  average score -20.2 best score -20.00 epsilon 0.87 steps 12551\n",
      "episode:  13 score:  -19.0  average score -20.1 best score -20.00 epsilon 0.86 steps 13808\n",
      "episode:  14 score:  -21.0  average score -20.1 best score -20.00 epsilon 0.85 steps 14600\n",
      "episode:  15 score:  -19.0  average score -20.1 best score -20.00 epsilon 0.84 steps 15839\n",
      "episode:  16 score:  -21.0  average score -20.1 best score -20.00 epsilon 0.83 steps 16744\n",
      "episode:  17 score:  -20.0  average score -20.1 best score -20.00 epsilon 0.82 steps 17710\n",
      "episode:  18 score:  -21.0  average score -20.2 best score -20.00 epsilon 0.81 steps 18736\n",
      "episode:  19 score:  -21.0  average score -20.2 best score -20.00 epsilon 0.80 steps 19763\n",
      "episode:  20 score:  -20.0  average score -20.2 best score -20.00 epsilon 0.79 steps 20742\n",
      "episode:  21 score:  -21.0  average score -20.2 best score -20.00 epsilon 0.78 steps 21622\n",
      "episode:  22 score:  -19.0  average score -20.2 best score -20.00 epsilon 0.77 steps 22756\n",
      "episode:  23 score:  -21.0  average score -20.2 best score -20.00 epsilon 0.76 steps 23567\n",
      "episode:  24 score:  -20.0  average score -20.2 best score -20.00 epsilon 0.76 steps 24438\n",
      "episode:  25 score:  -20.0  average score -20.2 best score -20.00 epsilon 0.75 steps 25396\n",
      "episode:  26 score:  -18.0  average score -20.1 best score -20.00 epsilon 0.73 steps 26717\n",
      "episode:  27 score:  -19.0  average score -20.1 best score -20.00 epsilon 0.72 steps 27762\n",
      "episode:  28 score:  -21.0  average score -20.1 best score -20.00 epsilon 0.71 steps 28968\n",
      "episode:  29 score:  -19.0  average score -20.1 best score -20.00 epsilon 0.70 steps 30185\n",
      "episode:  30 score:  -21.0  average score -20.1 best score -20.00 epsilon 0.69 steps 31413\n",
      "episode:  31 score:  -18.0  average score -20.0 best score -20.00 epsilon 0.67 steps 32668\n",
      "episode:  32 score:  -19.0  average score -20.0 best score -20.00 epsilon 0.66 steps 33784\n",
      "episode:  33 score:  -19.0  average score -20.0 best score -20.00 epsilon 0.65 steps 34934\n",
      "... saving checkpoint ...\n",
      "... saving checkpoint ...\n",
      "episode:  34 score:  -21.0  average score -20.0 best score -19.97 epsilon 0.64 steps 35818\n",
      "episode:  35 score:  -19.0  average score -20.0 best score -19.97 epsilon 0.63 steps 36875\n",
      "episode:  36 score:  -19.0  average score -19.9 best score -19.97 epsilon 0.62 steps 37980\n",
      "... saving checkpoint ...\n",
      "... saving checkpoint ...\n",
      "episode:  37 score:  -20.0  average score -19.9 best score -19.95 epsilon 0.61 steps 39003\n",
      "episode:  38 score:  -21.0  average score -20.0 best score -19.95 epsilon 0.60 steps 40004\n",
      "episode:  39 score:  -19.0  average score -19.9 best score -19.95 epsilon 0.59 steps 41063\n",
      "episode:  40 score:  -19.0  average score -19.9 best score -19.95 epsilon 0.58 steps 42259\n",
      "... saving checkpoint ...\n",
      "... saving checkpoint ...\n",
      "episode:  41 score:  -21.0  average score -20.0 best score -19.93 epsilon 0.57 steps 43231\n",
      "episode:  42 score:  -18.0  average score -19.9 best score -19.93 epsilon 0.55 steps 44715\n",
      "... saving checkpoint ...\n",
      "... saving checkpoint ...\n",
      "episode:  43 score:  -20.0  average score -19.9 best score -19.91 epsilon 0.54 steps 45886\n",
      "episode:  44 score:  -19.0  average score -19.9 best score -19.91 epsilon 0.53 steps 47056\n",
      "... saving checkpoint ...\n",
      "... saving checkpoint ...\n",
      "episode:  45 score:  -17.0  average score -19.8 best score -19.89 epsilon 0.52 steps 48437\n",
      "... saving checkpoint ...\n",
      "... saving checkpoint ...\n",
      "episode:  46 score:  -18.0  average score -19.8 best score -19.83 epsilon 0.50 steps 49687\n",
      "... saving checkpoint ...\n",
      "... saving checkpoint ...\n",
      "episode:  47 score:  -17.0  average score -19.7 best score -19.79 epsilon 0.49 steps 51017\n",
      "... saving checkpoint ...\n",
      "... saving checkpoint ...\n",
      "episode:  48 score:  -21.0  average score -19.8 best score -19.73 epsilon 0.48 steps 52068\n",
      "episode:  49 score:  -20.0  average score -19.8 best score -19.73 epsilon 0.47 steps 53167\n",
      "episode:  50 score:  -17.0  average score -19.7 best score -19.73 epsilon 0.46 steps 54515\n",
      "... saving checkpoint ...\n",
      "... saving checkpoint ...\n",
      "episode:  51 score:  -18.0  average score -19.7 best score -19.71 epsilon 0.44 steps 56001\n",
      "... saving checkpoint ...\n",
      "... saving checkpoint ...\n",
      "episode:  52 score:  -17.0  average score -19.6 best score -19.67 epsilon 0.42 steps 57612\n",
      "... saving checkpoint ...\n",
      "... saving checkpoint ...\n",
      "episode:  53 score:  -17.0  average score -19.6 best score -19.62 epsilon 0.41 steps 59135\n",
      "... saving checkpoint ...\n",
      "... saving checkpoint ...\n",
      "episode:  54 score:  -20.0  average score -19.6 best score -19.57 epsilon 0.40 steps 60509\n",
      "episode:  55 score:  -17.0  average score -19.5 best score -19.57 epsilon 0.38 steps 61852\n",
      "... saving checkpoint ...\n",
      "... saving checkpoint ...\n",
      "episode:  56 score:  -11.0  average score -19.4 best score -19.54 epsilon 0.36 steps 63993\n",
      "... saving checkpoint ...\n",
      "... saving checkpoint ...\n",
      "episode:  57 score:  -20.0  average score -19.4 best score -19.39 epsilon 0.35 steps 65244\n",
      "episode:  58 score:  -15.0  average score -19.3 best score -19.39 epsilon 0.33 steps 66985\n",
      "... saving checkpoint ...\n",
      "... saving checkpoint ...\n",
      "episode:  59 score:  -17.0  average score -19.3 best score -19.32 epsilon 0.31 steps 68532\n",
      "... saving checkpoint ...\n",
      "... saving checkpoint ...\n",
      "episode:  60 score:  -17.0  average score -19.2 best score -19.28 epsilon 0.30 steps 70024\n",
      "... saving checkpoint ...\n",
      "... saving checkpoint ...\n",
      "episode:  61 score:  -17.0  average score -19.2 best score -19.25 epsilon 0.28 steps 71561\n",
      "... saving checkpoint ...\n",
      "... saving checkpoint ...\n",
      "episode:  62 score:  -14.0  average score -19.1 best score -19.21 epsilon 0.27 steps 73338\n",
      "... saving checkpoint ...\n",
      "... saving checkpoint ...\n",
      "episode:  63 score:  -18.0  average score -19.1 best score -19.13 epsilon 0.25 steps 74889\n",
      "... saving checkpoint ...\n",
      "... saving checkpoint ...\n",
      "episode:  64 score:  -16.0  average score -19.1 best score -19.11 epsilon 0.23 steps 76851\n",
      "... saving checkpoint ...\n",
      "... saving checkpoint ...\n",
      "episode:  65 score:  -14.0  average score -19.0 best score -19.06 epsilon 0.21 steps 78759\n",
      "... saving checkpoint ...\n",
      "... saving checkpoint ...\n",
      "episode:  66 score:  -17.0  average score -19.0 best score -18.98 epsilon 0.20 steps 80378\n",
      "... saving checkpoint ...\n",
      "... saving checkpoint ...\n",
      "episode:  67 score:  -15.0  average score -18.9 best score -18.96 epsilon 0.18 steps 82224\n",
      "... saving checkpoint ...\n",
      "... saving checkpoint ...\n",
      "episode:  68 score:  -16.0  average score -18.9 best score -18.90 epsilon 0.16 steps 83870\n",
      "... saving checkpoint ...\n",
      "... saving checkpoint ...\n",
      "episode:  69 score:  -16.0  average score -18.8 best score -18.86 epsilon 0.14 steps 85749\n",
      "... saving checkpoint ...\n",
      "... saving checkpoint ...\n",
      "episode:  70 score:  -18.0  average score -18.8 best score -18.81 epsilon 0.13 steps 87526\n",
      "... saving checkpoint ...\n",
      "... saving checkpoint ...\n",
      "episode:  71 score:  -15.0  average score -18.8 best score -18.80 epsilon 0.11 steps 89271\n",
      "... saving checkpoint ...\n",
      "... saving checkpoint ...\n",
      "episode:  72 score:  -18.0  average score -18.7 best score -18.75 epsilon 0.10 steps 91152\n",
      "... saving checkpoint ...\n",
      "... saving checkpoint ...\n",
      "episode:  73 score:  -14.0  average score -18.7 best score -18.74 epsilon 0.10 steps 93165\n",
      "... saving checkpoint ...\n",
      "... saving checkpoint ...\n"
     ]
    },
    {
     "name": "stdout",
     "output_type": "stream",
     "text": [
      "episode:  74 score:  -14.0  average score -18.6 best score -18.68 epsilon 0.10 steps 95064\n",
      "... saving checkpoint ...\n",
      "... saving checkpoint ...\n",
      "episode:  75 score:  -14.0  average score -18.6 best score -18.61 epsilon 0.10 steps 97133\n",
      "... saving checkpoint ...\n",
      "... saving checkpoint ...\n",
      "episode:  76 score:  -11.0  average score -18.5 best score -18.55 epsilon 0.10 steps 99393\n",
      "... saving checkpoint ...\n",
      "... saving checkpoint ...\n",
      "episode:  77 score:  -12.0  average score -18.4 best score -18.45 epsilon 0.10 steps 101572\n",
      "... saving checkpoint ...\n",
      "... saving checkpoint ...\n",
      "episode:  78 score:  -15.0  average score -18.3 best score -18.37 epsilon 0.10 steps 103595\n",
      "... saving checkpoint ...\n",
      "... saving checkpoint ...\n",
      "episode:  79 score:  -15.0  average score -18.3 best score -18.33 epsilon 0.10 steps 105441\n",
      "... saving checkpoint ...\n",
      "... saving checkpoint ...\n",
      "episode:  80 score:  -13.0  average score -18.2 best score -18.29 epsilon 0.10 steps 107378\n",
      "... saving checkpoint ...\n",
      "... saving checkpoint ...\n",
      "episode:  81 score:  -13.0  average score -18.2 best score -18.22 epsilon 0.10 steps 109293\n",
      "... saving checkpoint ...\n",
      "... saving checkpoint ...\n",
      "episode:  82 score:  -11.0  average score -18.1 best score -18.16 epsilon 0.10 steps 111359\n",
      "... saving checkpoint ...\n",
      "... saving checkpoint ...\n",
      "episode:  83 score:  -8.0  average score -18.0 best score -18.07 epsilon 0.10 steps 113852\n",
      "... saving checkpoint ...\n",
      "... saving checkpoint ...\n",
      "episode:  84 score:  -18.0  average score -18.0 best score -17.95 epsilon 0.10 steps 115432\n",
      "episode:  85 score:  -15.0  average score -17.9 best score -17.95 epsilon 0.10 steps 117221\n",
      "... saving checkpoint ...\n",
      "... saving checkpoint ...\n",
      "episode:  86 score:  -19.0  average score -17.9 best score -17.92 epsilon 0.10 steps 118702\n",
      "episode:  87 score:  -12.0  average score -17.9 best score -17.92 epsilon 0.10 steps 120901\n",
      "... saving checkpoint ...\n",
      "... saving checkpoint ...\n",
      "episode:  88 score:  -16.0  average score -17.8 best score -17.86 epsilon 0.10 steps 122538\n",
      "... saving checkpoint ...\n",
      "... saving checkpoint ...\n",
      "episode:  89 score:  -12.0  average score -17.8 best score -17.84 epsilon 0.10 steps 124418\n",
      "... saving checkpoint ...\n",
      "... saving checkpoint ...\n",
      "episode:  90 score:  -12.0  average score -17.7 best score -17.78 epsilon 0.10 steps 126783\n",
      "... saving checkpoint ...\n",
      "... saving checkpoint ...\n",
      "episode:  91 score:  -8.0  average score -17.6 best score -17.71 epsilon 0.10 steps 129267\n",
      "... saving checkpoint ...\n",
      "... saving checkpoint ...\n",
      "episode:  92 score:  -7.0  average score -17.5 best score -17.61 epsilon 0.10 steps 131823\n",
      "... saving checkpoint ...\n",
      "... saving checkpoint ...\n",
      "episode:  93 score:  -8.0  average score -17.4 best score -17.49 epsilon 0.10 steps 134445\n",
      "... saving checkpoint ...\n",
      "... saving checkpoint ...\n",
      "episode:  94 score:  -9.0  average score -17.3 best score -17.39 epsilon 0.10 steps 137218\n",
      "... saving checkpoint ...\n",
      "... saving checkpoint ...\n",
      "episode:  95 score:  -11.0  average score -17.2 best score -17.31 epsilon 0.10 steps 139778\n",
      "... saving checkpoint ...\n",
      "... saving checkpoint ...\n",
      "episode:  96 score:  -1.0  average score -17.1 best score -17.24 epsilon 0.10 steps 143406\n",
      "... saving checkpoint ...\n",
      "... saving checkpoint ...\n",
      "episode:  97 score:  -9.0  average score -17.0 best score -17.07 epsilon 0.10 steps 146272\n",
      "... saving checkpoint ...\n",
      "... saving checkpoint ...\n",
      "episode:  98 score:  -7.0  average score -16.9 best score -16.99 epsilon 0.10 steps 148716\n",
      "... saving checkpoint ...\n",
      "... saving checkpoint ...\n",
      "episode:  99 score:  -6.0  average score -16.8 best score -16.89 epsilon 0.10 steps 151769\n",
      "... saving checkpoint ...\n",
      "... saving checkpoint ...\n",
      "episode:  100 score:  -9.0  average score -16.7 best score -16.78 epsilon 0.10 steps 154932\n",
      "... saving checkpoint ...\n",
      "... saving checkpoint ...\n",
      "episode:  101 score:  -8.0  average score -16.5 best score -16.67 epsilon 0.10 steps 157328\n",
      "... saving checkpoint ...\n",
      "... saving checkpoint ...\n",
      "episode:  102 score:  -15.0  average score -16.5 best score -16.54 epsilon 0.10 steps 159322\n",
      "... saving checkpoint ...\n",
      "... saving checkpoint ...\n",
      "episode:  103 score:  -10.0  average score -16.4 best score -16.48 epsilon 0.10 steps 161743\n",
      "... saving checkpoint ...\n",
      "... saving checkpoint ...\n",
      "episode:  104 score:  -10.0  average score -16.3 best score -16.39 epsilon 0.10 steps 164194\n",
      "... saving checkpoint ...\n",
      "... saving checkpoint ...\n",
      "episode:  105 score:  -11.0  average score -16.2 best score -16.30 epsilon 0.10 steps 166798\n",
      "... saving checkpoint ...\n",
      "... saving checkpoint ...\n",
      "episode:  106 score:  -5.0  average score -16.0 best score -16.20 epsilon 0.10 steps 170012\n",
      "... saving checkpoint ...\n",
      "... saving checkpoint ...\n",
      "episode:  107 score:  -6.0  average score -15.9 best score -16.04 epsilon 0.10 steps 172458\n",
      "... saving checkpoint ...\n",
      "... saving checkpoint ...\n",
      "episode:  108 score:  -4.0  average score -15.8 best score -15.89 epsilon 0.10 steps 175844\n",
      "... saving checkpoint ...\n",
      "... saving checkpoint ...\n",
      "episode:  109 score:  -8.0  average score -15.6 best score -15.75 epsilon 0.10 steps 178736\n",
      "... saving checkpoint ...\n",
      "... saving checkpoint ...\n",
      "episode:  110 score:  -3.0  average score -15.4 best score -15.63 epsilon 0.10 steps 182045\n",
      "... saving checkpoint ...\n",
      "... saving checkpoint ...\n",
      "episode:  111 score:  1.0  average score -15.2 best score -15.45 epsilon 0.10 steps 185577\n",
      "... saving checkpoint ...\n",
      "... saving checkpoint ...\n",
      "episode:  112 score:  -9.0  average score -15.1 best score -15.24 epsilon 0.10 steps 187945\n",
      "... saving checkpoint ...\n",
      "... saving checkpoint ...\n",
      "episode:  113 score:  -1.0  average score -14.9 best score -15.13 epsilon 0.10 steps 191771\n",
      "... saving checkpoint ...\n",
      "... saving checkpoint ...\n",
      "episode:  114 score:  -10.0  average score -14.8 best score -14.95 epsilon 0.10 steps 194330\n",
      "... saving checkpoint ...\n",
      "... saving checkpoint ...\n",
      "episode:  115 score:  4.0  average score -14.6 best score -14.84 epsilon 0.10 steps 197080\n",
      "... saving checkpoint ...\n",
      "... saving checkpoint ...\n",
      "episode:  116 score:  -2.0  average score -14.4 best score -14.61 epsilon 0.10 steps 200119\n",
      "... saving checkpoint ...\n",
      "... saving checkpoint ...\n",
      "episode:  117 score:  8.0  average score -14.1 best score -14.42 epsilon 0.10 steps 202654\n",
      "... saving checkpoint ...\n",
      "... saving checkpoint ...\n",
      "episode:  118 score:  7.0  average score -13.9 best score -14.14 epsilon 0.10 steps 205296\n",
      "... saving checkpoint ...\n",
      "... saving checkpoint ...\n",
      "episode:  119 score:  4.0  average score -13.6 best score -13.86 epsilon 0.10 steps 208326\n",
      "... saving checkpoint ...\n",
      "... saving checkpoint ...\n",
      "episode:  120 score:  5.0  average score -13.4 best score -13.61 epsilon 0.10 steps 211460\n",
      "... saving checkpoint ...\n",
      "... saving checkpoint ...\n"
     ]
    },
    {
     "ename": "KeyboardInterrupt",
     "evalue": "",
     "output_type": "error",
     "traceback": [
      "\u001b[1;31m---------------------------------------------------------------------------\u001b[0m",
      "\u001b[1;31mKeyboardInterrupt\u001b[0m                         Traceback (most recent call last)",
      "\u001b[1;32mT:\\Temp\\ipykernel_19608\\2880067658.py\u001b[0m in \u001b[0;36m<module>\u001b[1;34m\u001b[0m\n\u001b[0;32m     12\u001b[0m             agent.store_transition(observation_current, action,\n\u001b[0;32m     13\u001b[0m                                  reward, observation_next, done)\n\u001b[1;32m---> 14\u001b[1;33m             \u001b[0magent\u001b[0m\u001b[1;33m.\u001b[0m\u001b[0mlearn\u001b[0m\u001b[1;33m(\u001b[0m\u001b[1;33m)\u001b[0m\u001b[1;33m\u001b[0m\u001b[1;33m\u001b[0m\u001b[0m\n\u001b[0m\u001b[0;32m     15\u001b[0m         \u001b[0mobservation_current\u001b[0m \u001b[1;33m=\u001b[0m \u001b[0mobservation_next\u001b[0m\u001b[1;33m\u001b[0m\u001b[1;33m\u001b[0m\u001b[0m\n\u001b[0;32m     16\u001b[0m         \u001b[0mn_steps\u001b[0m \u001b[1;33m+=\u001b[0m \u001b[1;36m1\u001b[0m\u001b[1;33m\u001b[0m\u001b[1;33m\u001b[0m\u001b[0m\n",
      "\u001b[1;32mT:\\Temp\\ipykernel_19608\\6014482.py\u001b[0m in \u001b[0;36mlearn\u001b[1;34m(self)\u001b[0m\n\u001b[0;32m     92\u001b[0m \u001b[1;33m\u001b[0m\u001b[0m\n\u001b[0;32m     93\u001b[0m         \u001b[0mloss\u001b[0m \u001b[1;33m=\u001b[0m \u001b[0mself\u001b[0m\u001b[1;33m.\u001b[0m\u001b[0mq_eval\u001b[0m\u001b[1;33m.\u001b[0m\u001b[0mloss\u001b[0m\u001b[1;33m(\u001b[0m\u001b[0mq_target\u001b[0m\u001b[1;33m,\u001b[0m \u001b[0mq_pred\u001b[0m\u001b[1;33m)\u001b[0m\u001b[1;33m.\u001b[0m\u001b[0mto\u001b[0m\u001b[1;33m(\u001b[0m\u001b[0mself\u001b[0m\u001b[1;33m.\u001b[0m\u001b[0mq_eval\u001b[0m\u001b[1;33m.\u001b[0m\u001b[0mdevice\u001b[0m\u001b[1;33m)\u001b[0m\u001b[1;33m\u001b[0m\u001b[1;33m\u001b[0m\u001b[0m\n\u001b[1;32m---> 94\u001b[1;33m         \u001b[0mloss\u001b[0m\u001b[1;33m.\u001b[0m\u001b[0mbackward\u001b[0m\u001b[1;33m(\u001b[0m\u001b[1;33m)\u001b[0m\u001b[1;33m\u001b[0m\u001b[1;33m\u001b[0m\u001b[0m\n\u001b[0m\u001b[0;32m     95\u001b[0m         \u001b[0mself\u001b[0m\u001b[1;33m.\u001b[0m\u001b[0mq_eval\u001b[0m\u001b[1;33m.\u001b[0m\u001b[0moptimizer\u001b[0m\u001b[1;33m.\u001b[0m\u001b[0mstep\u001b[0m\u001b[1;33m(\u001b[0m\u001b[1;33m)\u001b[0m\u001b[1;33m\u001b[0m\u001b[1;33m\u001b[0m\u001b[0m\n\u001b[0;32m     96\u001b[0m         \u001b[0mself\u001b[0m\u001b[1;33m.\u001b[0m\u001b[0mlearn_step_counter\u001b[0m \u001b[1;33m+=\u001b[0m \u001b[1;36m1\u001b[0m\u001b[1;33m\u001b[0m\u001b[1;33m\u001b[0m\u001b[0m\n",
      "\u001b[1;32m~\\Anaconda3\\envs\\gym\\lib\\site-packages\\torch\\_tensor.py\u001b[0m in \u001b[0;36mbackward\u001b[1;34m(self, gradient, retain_graph, create_graph, inputs)\u001b[0m\n\u001b[0;32m    305\u001b[0m                 \u001b[0mcreate_graph\u001b[0m\u001b[1;33m=\u001b[0m\u001b[0mcreate_graph\u001b[0m\u001b[1;33m,\u001b[0m\u001b[1;33m\u001b[0m\u001b[1;33m\u001b[0m\u001b[0m\n\u001b[0;32m    306\u001b[0m                 inputs=inputs)\n\u001b[1;32m--> 307\u001b[1;33m         \u001b[0mtorch\u001b[0m\u001b[1;33m.\u001b[0m\u001b[0mautograd\u001b[0m\u001b[1;33m.\u001b[0m\u001b[0mbackward\u001b[0m\u001b[1;33m(\u001b[0m\u001b[0mself\u001b[0m\u001b[1;33m,\u001b[0m \u001b[0mgradient\u001b[0m\u001b[1;33m,\u001b[0m \u001b[0mretain_graph\u001b[0m\u001b[1;33m,\u001b[0m \u001b[0mcreate_graph\u001b[0m\u001b[1;33m,\u001b[0m \u001b[0minputs\u001b[0m\u001b[1;33m=\u001b[0m\u001b[0minputs\u001b[0m\u001b[1;33m)\u001b[0m\u001b[1;33m\u001b[0m\u001b[1;33m\u001b[0m\u001b[0m\n\u001b[0m\u001b[0;32m    308\u001b[0m \u001b[1;33m\u001b[0m\u001b[0m\n\u001b[0;32m    309\u001b[0m     \u001b[1;32mdef\u001b[0m \u001b[0mregister_hook\u001b[0m\u001b[1;33m(\u001b[0m\u001b[0mself\u001b[0m\u001b[1;33m,\u001b[0m \u001b[0mhook\u001b[0m\u001b[1;33m)\u001b[0m\u001b[1;33m:\u001b[0m\u001b[1;33m\u001b[0m\u001b[1;33m\u001b[0m\u001b[0m\n",
      "\u001b[1;32m~\\Anaconda3\\envs\\gym\\lib\\site-packages\\torch\\autograd\\__init__.py\u001b[0m in \u001b[0;36mbackward\u001b[1;34m(tensors, grad_tensors, retain_graph, create_graph, grad_variables, inputs)\u001b[0m\n\u001b[0;32m    154\u001b[0m     Variable._execution_engine.run_backward(\n\u001b[0;32m    155\u001b[0m         \u001b[0mtensors\u001b[0m\u001b[1;33m,\u001b[0m \u001b[0mgrad_tensors_\u001b[0m\u001b[1;33m,\u001b[0m \u001b[0mretain_graph\u001b[0m\u001b[1;33m,\u001b[0m \u001b[0mcreate_graph\u001b[0m\u001b[1;33m,\u001b[0m \u001b[0minputs\u001b[0m\u001b[1;33m,\u001b[0m\u001b[1;33m\u001b[0m\u001b[1;33m\u001b[0m\u001b[0m\n\u001b[1;32m--> 156\u001b[1;33m         allow_unreachable=True, accumulate_grad=True)  # allow_unreachable flag\n\u001b[0m\u001b[0;32m    157\u001b[0m \u001b[1;33m\u001b[0m\u001b[0m\n\u001b[0;32m    158\u001b[0m \u001b[1;33m\u001b[0m\u001b[0m\n",
      "\u001b[1;31mKeyboardInterrupt\u001b[0m: "
     ]
    }
   ],
   "source": [
    "for i in range(n_games):\n",
    "    done = False\n",
    "    observation_current = env.reset()\n",
    "\n",
    "    score = 0\n",
    "    while not done:\n",
    "        action = agent.choose_action(observation_current)\n",
    "        observation_next, reward, done, info = env.step(action)\n",
    "        score += reward\n",
    "\n",
    "        if not load_checkpoint:\n",
    "            agent.store_transition(observation_current, action,\n",
    "                                 reward, observation_next, done)\n",
    "            agent.learn()\n",
    "        observation_current = observation_next\n",
    "        n_steps += 1\n",
    "    scores.append(score)\n",
    "    steps_array.append(n_steps)\n",
    "\n",
    "    avg_score = np.mean(scores[-100:])\n",
    "    print('episode: ', i,'score: ', score,\n",
    "         ' average score %.1f' % avg_score, 'best score %.2f' % best_score,\n",
    "        'epsilon %.2f' % agent.epsilon, 'steps', n_steps)\n",
    "\n",
    "    if avg_score > best_score:\n",
    "        if not load_checkpoint:\n",
    "            agent.save_models()\n",
    "        best_score = avg_score\n",
    "\n",
    "    eps_history.append(agent.epsilon)\n"
   ]
  },
  {
   "cell_type": "code",
   "execution_count": null,
   "id": "100bcd14",
   "metadata": {},
   "outputs": [],
   "source": [
    "agent.memory.memory_counter"
   ]
  },
  {
   "cell_type": "code",
   "execution_count": null,
   "id": "7cc60fe0",
   "metadata": {},
   "outputs": [],
   "source": [
    "agent.q_eval.state_dict()"
   ]
  },
  {
   "cell_type": "code",
   "execution_count": null,
   "id": "07e98177",
   "metadata": {},
   "outputs": [],
   "source": [
    "model_vals"
   ]
  },
  {
   "cell_type": "code",
   "execution_count": 19,
   "id": "d4619708",
   "metadata": {},
   "outputs": [],
   "source": [
    "def plot_learning_curve(x, scores, epsilons, filename, lines=None):\n",
    "    fig=plt.figure()\n",
    "    ax=fig.add_subplot(111, label=\"1\")\n",
    "    ax2=fig.add_subplot(111, label=\"2\", frame_on=False)\n",
    "\n",
    "    ax.plot(x, epsilons, color=\"C0\")\n",
    "    ax.set_xlabel(\"Training Steps\", color=\"C0\")\n",
    "    ax.set_ylabel(\"Epsilon\", color=\"C0\")\n",
    "    ax.tick_params(axis='x', colors=\"C0\")\n",
    "    ax.tick_params(axis='y', colors=\"C0\")\n",
    "\n",
    "    N = len(scores)\n",
    "    running_avg = np.empty(N)\n",
    "    for t in range(N):\n",
    "        running_avg[t] = np.mean(scores[max(0, t-20):(t+1)])\n",
    "\n",
    "    ax2.scatter(x, running_avg, color=\"C1\")\n",
    "    ax2.axes.get_xaxis().set_visible(False)\n",
    "    ax2.yaxis.tick_right()\n",
    "    ax2.set_ylabel('Score', color=\"C1\")\n",
    "    ax2.yaxis.set_label_position('right')\n",
    "    ax2.tick_params(axis='y', colors=\"C1\")\n",
    "\n",
    "    if lines is not None:\n",
    "        for line in lines:\n",
    "            plt.axvline(x=line)\n",
    "\n",
    "    #plt.savefig(filename)\n",
    "    plt.show()"
   ]
  },
  {
   "cell_type": "code",
   "execution_count": 20,
   "id": "bf7722e8",
   "metadata": {},
   "outputs": [
    {
     "data": {
      "image/png": "[encoded data removed]",
      "text/plain": [
       "<Figure size 432x288 with 2 Axes>"
      ]
     },
     "metadata": {},
     "output_type": "display_data"
    }
   ],
   "source": [
    "x = [i+1 for i in range(len(scores))]\n",
    "plot_learning_curve(steps_array, scores, eps_history, figure_file)"
   ]
  },
  {
   "cell_type": "code",
   "execution_count": 42,
   "id": "a0b547fd",
   "metadata": {},
   "outputs": [
    {
     "data": {
      "image/png": "[encoded data removed]",
      "text/plain": [
       "<Figure size 432x288 with 1 Axes>"
      ]
     },
     "metadata": {
      "needs_background": "light"
     },
     "output_type": "display_data"
    },
    {
     "data": {
      "image/png": "[encoded data removed]",
      "text/plain": [
       "<Figure size 432x288 with 1 Axes>"
      ]
     },
     "metadata": {
      "needs_background": "light"
     },
     "output_type": "display_data"
    },
    {
     "data": {
      "image/png": "[encoded data removed]",
      "text/plain": [
       "<Figure size 432x288 with 1 Axes>"
      ]
     },
     "metadata": {
      "needs_background": "light"
     },
     "output_type": "display_data"
    },
    {
     "data": {
      "image/png": "[encoded data removed]",
      "text/plain": [
       "<Figure size 432x288 with 1 Axes>"
      ]
     },
     "metadata": {
      "needs_background": "light"
     },
     "output_type": "display_data"
    }
   ],
   "source": [
    "for i in range(4): \n",
    "    plt.imshow(observation_[i,:,:], cmap='gray')\n",
    "    plt.show()"
   ]
  },
  {
   "cell_type": "code",
   "execution_count": null,
   "id": "b0d587c9",
   "metadata": {},
   "outputs": [],
   "source": []
  },
  {
   "cell_type": "code",
   "execution_count": null,
   "id": "b9e33f9e",
   "metadata": {},
   "outputs": [],
   "source": []
  },
  {
   "cell_type": "code",
   "execution_count": null,
   "id": "4fa7dad9",
   "metadata": {},
   "outputs": [],
   "source": []
  },
  {
   "cell_type": "code",
   "execution_count": null,
   "id": "e275a1f7",
   "metadata": {},
   "outputs": [],
   "source": []
  },
  {
   "cell_type": "code",
   "execution_count": 13,
   "id": "17a223ea",
   "metadata": {},
   "outputs": [],
   "source": [
    "current_image = env.render(mode = 'rgb_array')"
   ]
  },
  {
   "cell_type": "code",
   "execution_count": 18,
   "id": "30c348e3",
   "metadata": {},
   "outputs": [
    {
     "data": {
      "text/plain": [
       "<matplotlib.image.AxesImage at 0x20bc7b0d608>"
      ]
     },
     "execution_count": 18,
     "metadata": {},
     "output_type": "execute_result"
    },
    {
     "data": {
      "image/png": "[encoded data removed]",
      "text/plain": [
       "<Figure size 432x288 with 1 Axes>"
      ]
     },
     "metadata": {
      "needs_background": "light"
     },
     "output_type": "display_data"
    }
   ],
   "source": [
    "plt.imshow(current_image)"
   ]
  },
  {
   "cell_type": "code",
   "execution_count": 8,
   "id": "8c86485f",
   "metadata": {},
   "outputs": [
    {
     "name": "stderr",
     "output_type": "stream",
     "text": [
      "C:\\Users\\M323742\\Anaconda3\\envs\\gym\\lib\\site-packages\\pyglet\\image\\codecs\\wic.py:289: UserWarning: [WinError -2147417850] Cannot change thread mode after it is set\n",
      "  warnings.warn(str(err))\n"
     ]
    },
    {
     "data": {
      "text/plain": [
       "True"
      ]
     },
     "execution_count": 8,
     "metadata": {},
     "output_type": "execute_result"
    }
   ],
   "source": [
    " #env.render()"
   ]
  },
  {
   "cell_type": "code",
   "execution_count": 19,
   "id": "4a6d6fa2",
   "metadata": {},
   "outputs": [],
   "source": [
    "env.close()"
   ]
  },
  {
   "cell_type": "code",
   "execution_count": null,
   "id": "fcc6a188",
   "metadata": {},
   "outputs": [],
   "source": []
  },
  {
   "cell_type": "code",
   "execution_count": null,
   "id": "97bdc7e0",
   "metadata": {},
   "outputs": [],
   "source": []
  },
  {
   "cell_type": "code",
   "execution_count": null,
   "id": "b6eeddce",
   "metadata": {},
   "outputs": [],
   "source": []
  },
  {
   "cell_type": "code",
   "execution_count": null,
   "id": "c4c84604",
   "metadata": {},
   "outputs": [],
   "source": []
  }
 ],
 "metadata": {
  "kernelspec": {
   "display_name": "Python 3 (ipykernel)",
   "language": "python",
   "name": "python3"
  },
  "language_info": {
   "codemirror_mode": {
    "name": "ipython",
    "version": 3
   },
   "file_extension": ".py",
   "mimetype": "text/x-python",
   "name": "python",
   "nbconvert_exporter": "python",
   "pygments_lexer": "ipython3",
   "version": "3.7.7"
  }
 },
 "nbformat": 4,
 "nbformat_minor": 5
}
