{
 "cells": [
  {
   "cell_type": "code",
   "execution_count": 1,
   "id": "bb176336",
   "metadata": {},
   "outputs": [
    {
     "data": {
      "text/html": [
       "<style>.container { width:90% !important; }</style>"
      ],
      "text/plain": [
       "<IPython.core.display.HTML object>"
      ]
     },
     "metadata": {},
     "output_type": "display_data"
    }
   ],
   "source": [
    "# Makes the display take up more of the screen\n",
    "from IPython.core.display import display, HTML\n",
    "display(HTML(\"<style>.container { width:90% !important; }</style>\"))"
   ]
  },
  {
   "cell_type": "code",
   "execution_count": 43,
   "id": "03f504ad",
   "metadata": {},
   "outputs": [],
   "source": [
    "import gym\n",
    "import matplotlib.pyplot as plt\n",
    "import numpy as np\n",
    "import pandas as pd"
   ]
  },
  {
   "cell_type": "code",
   "execution_count": 3,
   "id": "d6c9d81e",
   "metadata": {},
   "outputs": [],
   "source": [
    "import datetime as dt\n",
    "import time"
   ]
  },
  {
   "cell_type": "code",
   "execution_count": 4,
   "id": "64717c63",
   "metadata": {},
   "outputs": [],
   "source": [
    "import torch as T\n",
    "import torch.nn as nn\n",
    "import torch.nn.functional as F\n",
    "import torch.optim as optim"
   ]
  },
  {
   "cell_type": "code",
   "execution_count": 5,
   "id": "9899b200",
   "metadata": {},
   "outputs": [],
   "source": [
    "def set_seed(x): \n",
    "    #random.seed(x)\n",
    "    np.random.seed(x)\n",
    "    T.manual_seed(x)\n",
    "    T.backends.cudnn.deterministic = True\n",
    "    T.backends.cudnn.benchmark = False\n",
    "    if T.cuda.is_available(): \n",
    "        T.cuda.manual_seed_all(x)"
   ]
  },
  {
   "cell_type": "code",
   "execution_count": 6,
   "id": "b0792c92",
   "metadata": {},
   "outputs": [],
   "source": [
    "seed= 42\n",
    "set_seed(seed)"
   ]
  },
  {
   "cell_type": "markdown",
   "id": "b14c2bde",
   "metadata": {},
   "source": [
    "# Broadcasting"
   ]
  },
  {
   "cell_type": "code",
   "execution_count": 7,
   "id": "3e77c77d",
   "metadata": {},
   "outputs": [],
   "source": [
    "class PolicyNetwork(nn.Module):\n",
    "    def __init__(self, lr, input_dims, n_actions):\n",
    "        super(PolicyNetwork, self).__init__()\n",
    "        self.fc1 = nn.Linear(*input_dims,128)\n",
    "        self.fc2 = nn.Linear(128,128)\n",
    "        self.fc3 = nn.Linear(128, n_actions)\n",
    "        \n",
    "        self.optimizer = optim.Adam(self.parameters(), lr=lr)\n",
    "        \n",
    "        self.device = T.device('cuda:0' if T.cuda.is_available() else 'cpu')\n",
    "        self.to(self.device)\n",
    "        \n",
    "    def forward(self, state):\n",
    "        x1 = F.relu(self.fc1(state))\n",
    "        x2 = F.relu(self.fc2(x1))\n",
    "        x3 = self.fc3(x2)\n",
    "        \n",
    "        return x3   "
   ]
  },
  {
   "cell_type": "code",
   "execution_count": 8,
   "id": "0493b131",
   "metadata": {},
   "outputs": [],
   "source": [
    "class PolicyGradientAgent():\n",
    "    def __init__(self, lr, input_dims, gamma= 0.99, n_actions=4):\n",
    "        self.gamma = gamma\n",
    "        self.lr = lr\n",
    "        self.reward_memory = []\n",
    "        self.action_memory = []\n",
    "        \n",
    "        self.reward_memory_saved = []\n",
    "        self.action_memory_saved = []\n",
    "        \n",
    "        self.policy = PolicyNetwork(self.lr, input_dims, n_actions)\n",
    "        \n",
    "    def choose_action(self, observation):\n",
    "        state = T.Tensor([observation]).to(self.policy.device)\n",
    "        probabilities = F.softmax(self.policy.forward(state))\n",
    "        action_probs = T.distributions.Categorical(probabilities)\n",
    "        action = action_probs.sample()\n",
    "        log_probs = action_probs.log_prob(action)\n",
    "        self.action_memory.append(log_probs)\n",
    "        \n",
    "        return action.item()\n",
    "    \n",
    "    def store_rewards(self, reward):\n",
    "        self.reward_memory.append(reward)\n",
    "               \n",
    "    def learn(self):\n",
    "        self.policy.optimizer.zero_grad()\n",
    "        \n",
    "        # G_t = R_t+1 + gamma * R_t+2 + gamma**2 * R_t+3\n",
    "        # G_t = sum from k=0 to k=T {gamma**k * R_t+k+1}\n",
    "        \n",
    "        # too many for loops\n",
    "        #G = np.zeros_like(self.reward_memory, dtype=np.float64)\n",
    "        #for t in range(len(self.reward_memory)):\n",
    "        #    G_sum=0\n",
    "        #    discount=1\n",
    "        #    for k in range(t, len(self.action_memory)):\n",
    "        #        G_sum += self.reward_memory[k] *discount\n",
    "        #        discount *= self.gamma\n",
    "        #    G[t]=G_sum\n",
    "        \n",
    "        #Removed for loops by broadcasting\n",
    "        arr_rwrd=np.triu([self.reward_memory]*len(self.action_memory), k=0)\n",
    "        n = len(self.action_memory)\n",
    "        b = np.zeros(2 * n+1)\n",
    "        b[n:] = self.gamma ** np.arange(n+1)\n",
    "        s, = b.strides\n",
    "        dscnt = np.lib.stride_tricks.as_strided(b[n:], shape=(n, n), strides=(-s, s), writeable=False)\n",
    "        G=(arr_rwrd*dscnt).sum(axis=1)\n",
    "        \n",
    "        G = T.tensor(G, dtype=T.float).to(self.policy.device)\n",
    "        \n",
    "        loss=0\n",
    "        for g, logprob in zip(G, self.action_memory):\n",
    "            loss+= -g * logprob\n",
    "        loss.backward()\n",
    "        self.policy.optimizer.step()\n",
    "        \n",
    "        self.reward_memory_saved.append(self.reward_memory)\n",
    "        self.action_memory_saved.append(self.action_memory)\n",
    "        \n",
    "        self.reward_memory = []\n",
    "        self.action_memory = []"
   ]
  },
  {
   "cell_type": "code",
   "execution_count": null,
   "id": "47dab9e0",
   "metadata": {},
   "outputs": [],
   "source": []
  },
  {
   "cell_type": "code",
   "execution_count": null,
   "id": "f40e8551",
   "metadata": {},
   "outputs": [],
   "source": []
  },
  {
   "cell_type": "code",
   "execution_count": null,
   "id": "be269d98",
   "metadata": {},
   "outputs": [],
   "source": []
  },
  {
   "cell_type": "code",
   "execution_count": 9,
   "id": "6407b3b0",
   "metadata": {},
   "outputs": [
    {
     "name": "stderr",
     "output_type": "stream",
     "text": [
      "C:\\Users\\M323742\\Anaconda3\\envs\\DeepRL\\lib\\site-packages\\ipykernel_launcher.py:15: UserWarning: Implicit dimension choice for softmax has been deprecated. Change the call to include dim=X as an argument.\n",
      "  from ipykernel import kernelapp as app\n"
     ]
    },
    {
     "name": "stdout",
     "output_type": "stream",
     "text": [
      "Episode  0 Score -254.51 Average score -254.51 Average episode time 0.19 (sec)\n",
      "Episode  250 Score -24.39 Average score -156.90 Average episode time 0.09 (sec)\n",
      "Episode  500 Score -117.73 Average score -137.29 Average episode time 0.12 (sec)\n",
      "Episode  750 Score -98.48 Average score -115.07 Average episode time 0.11 (sec)\n",
      "Episode  1000 Score -96.45 Average score -75.60 Average episode time 0.16 (sec)\n",
      "Episode  1250 Score 23.85 Average score -26.97 Average episode time 0.26 (sec)\n",
      "Episode  1500 Score 126.07 Average score 17.17 Average episode time 0.99 (sec)\n",
      "Episode  1750 Score -34.05 Average score 53.25 Average episode time 1.11 (sec)\n",
      "Episode  2000 Score 140.32 Average score 99.59 Average episode time 1.76 (sec)\n",
      "Episode  2250 Score -219.67 Average score 60.28 Average episode time 0.96 (sec)\n",
      "Episode  2500 Score 165.42 Average score 92.77 Average episode time 0.73 (sec)\n",
      "Episode  2750 Score -71.41 Average score 65.49 Average episode time 0.99 (sec)\n",
      "Episode  3000 Score 42.46 Average score 103.42 Average episode time 0.89 (sec)\n"
     ]
    }
   ],
   "source": [
    "env = gym.make('LunarLander-v2')\n",
    "env.seed(seed)\n",
    "n_games = 3001\n",
    "agent = PolicyGradientAgent(gamma=0.99, lr=0.0005, input_dims=[8],\n",
    "                            n_actions=4)\n",
    "episode_time=[]\n",
    "scores = []\n",
    "for i in range(n_games):\n",
    "    toc= time.time()\n",
    "    done = False\n",
    "    observation = env.reset()\n",
    "    score = 0\n",
    "    while not done:\n",
    "        action = agent.choose_action(observation)\n",
    "        observation_, reward, done, info = env.step(action)\n",
    "        score += reward\n",
    "        agent.store_rewards(reward)\n",
    "        observation = observation_\n",
    "    agent.learn()\n",
    "    scores.append(score)\n",
    "    tic=time.time()\n",
    "    episode_time.append(tic-toc)\n",
    "    intvl=250\n",
    "    if i % intvl == 0:\n",
    "        avg_score = np.mean(scores[-intvl:])\n",
    "        avg_time = np.mean(episode_time[-intvl:])\n",
    "        print('Episode ', i, 'Score %.2f' % score, 'Average score %.2f' % avg_score, 'Average episode time %.2f' % avg_time, '(sec)')\n",
    "env.close()"
   ]
  },
  {
   "cell_type": "code",
   "execution_count": 10,
   "id": "e6effae5",
   "metadata": {},
   "outputs": [
    {
     "name": "stdout",
     "output_type": "stream",
     "text": [
      "Time to complete %.2f 34.06503071784973 (minutes)\n"
     ]
    }
   ],
   "source": [
    "print('Time to complete %.2f', np.array(episode_time).sum()/60, '(minutes)')"
   ]
  },
  {
   "cell_type": "code",
   "execution_count": 11,
   "id": "8a39306b",
   "metadata": {},
   "outputs": [
    {
     "data": {
      "image/png": "[encoded data removed]",
      "text/plain": [
       "<Figure size 432x288 with 1 Axes>"
      ]
     },
     "metadata": {
      "needs_background": "light"
     },
     "output_type": "display_data"
    }
   ],
   "source": [
    "x = [i+1 for i in range(len(scores))]\n",
    "running_avg = np.zeros(len(scores))\n",
    "for i in range(len(running_avg)):\n",
    "    running_avg[i] = np.mean(scores[max(0, i-100):(i+1)])\n",
    "\n",
    "plt.plot(x, scores, 'o', alpha=0.1)\n",
    "plt.plot(x, running_avg)\n",
    "plt.title('Reward over episodes')\n",
    "plt.ylabel(r'$Reward$')\n",
    "plt.xlabel(r'$Episode Number$')\n",
    "plt.show()"
   ]
  },
  {
   "cell_type": "code",
   "execution_count": 12,
   "id": "9c4a6af3",
   "metadata": {},
   "outputs": [
    {
     "data": {
      "image/png": "[encoded data removed]",
      "text/plain": [
       "<Figure size 432x288 with 1 Axes>"
      ]
     },
     "metadata": {
      "needs_background": "light"
     },
     "output_type": "display_data"
    }
   ],
   "source": [
    "x = scores\n",
    "y=episode_time\n",
    "plt.plot(x, y, 'o', alpha=0.1)\n",
    "\n",
    "plt.title('Time on each episode by Reward')\n",
    "plt.ylabel(r'$Time \\ (sec)$')\n",
    "plt.xlabel(r'$Reward$')\n",
    "plt.show()"
   ]
  },
  {
   "cell_type": "markdown",
   "id": "46c8ac59",
   "metadata": {},
   "source": [
    "##### test to see how much fast the vectorized calucation is"
   ]
  },
  {
   "cell_type": "code",
   "execution_count": 33,
   "id": "7a3b61c9",
   "metadata": {},
   "outputs": [],
   "source": [
    "self=agent\n",
    "self.reward_memory = self.reward_memory_saved[-1]\n",
    "self.action_memory = self.action_memory_saved[-1]"
   ]
  },
  {
   "cell_type": "code",
   "execution_count": 34,
   "id": "97129786",
   "metadata": {},
   "outputs": [
    {
     "data": {
      "text/plain": [
       "(3001, 1000, 1000)"
      ]
     },
     "execution_count": 34,
     "metadata": {},
     "output_type": "execute_result"
    }
   ],
   "source": [
    "len( self.reward_memory_saved), len(self.reward_memory),len(self.action_memory)"
   ]
  },
  {
   "cell_type": "code",
   "execution_count": 37,
   "id": "2524e0a8",
   "metadata": {},
   "outputs": [
    {
     "name": "stdout",
     "output_type": "stream",
     "text": [
      "10 loops, best of 3: 71.2 ms per loop\n"
     ]
    }
   ],
   "source": [
    "%timeit np.triu([self.reward_memory]*len(self.action_memory), k=0)"
   ]
  },
  {
   "cell_type": "code",
   "execution_count": 44,
   "id": "fc043865",
   "metadata": {},
   "outputs": [
    {
     "data": {
      "text/html": [
       "<div>\n",
       "<style scoped>\n",
       "    .dataframe tbody tr th:only-of-type {\n",
       "        vertical-align: middle;\n",
       "    }\n",
       "\n",
       "    .dataframe tbody tr th {\n",
       "        vertical-align: top;\n",
       "    }\n",
       "\n",
       "    .dataframe thead th {\n",
       "        text-align: right;\n",
       "    }\n",
       "</style>\n",
       "<table border=\"1\" class=\"dataframe\">\n",
       "  <thead>\n",
       "    <tr style=\"text-align: right;\">\n",
       "      <th></th>\n",
       "      <th>0</th>\n",
       "      <th>1</th>\n",
       "      <th>2</th>\n",
       "      <th>3</th>\n",
       "      <th>4</th>\n",
       "      <th>5</th>\n",
       "      <th>6</th>\n",
       "      <th>7</th>\n",
       "      <th>8</th>\n",
       "      <th>9</th>\n",
       "      <th>...</th>\n",
       "      <th>990</th>\n",
       "      <th>991</th>\n",
       "      <th>992</th>\n",
       "      <th>993</th>\n",
       "      <th>994</th>\n",
       "      <th>995</th>\n",
       "      <th>996</th>\n",
       "      <th>997</th>\n",
       "      <th>998</th>\n",
       "      <th>999</th>\n",
       "    </tr>\n",
       "  </thead>\n",
       "  <tbody>\n",
       "    <tr>\n",
       "      <th>0</th>\n",
       "      <td>0.302758</td>\n",
       "      <td>-0.071668</td>\n",
       "      <td>1.540201</td>\n",
       "      <td>-0.14559</td>\n",
       "      <td>1.568262</td>\n",
       "      <td>1.625002</td>\n",
       "      <td>1.840486</td>\n",
       "      <td>1.991143</td>\n",
       "      <td>1.762171</td>\n",
       "      <td>1.65241</td>\n",
       "      <td>...</td>\n",
       "      <td>-0.394255</td>\n",
       "      <td>0.153895</td>\n",
       "      <td>0.082987</td>\n",
       "      <td>0.022155</td>\n",
       "      <td>-0.502247</td>\n",
       "      <td>0.316291</td>\n",
       "      <td>-0.090363</td>\n",
       "      <td>0.122485</td>\n",
       "      <td>-0.064629</td>\n",
       "      <td>-0.254646</td>\n",
       "    </tr>\n",
       "    <tr>\n",
       "      <th>1</th>\n",
       "      <td>0.000000</td>\n",
       "      <td>-0.071668</td>\n",
       "      <td>1.540201</td>\n",
       "      <td>-0.14559</td>\n",
       "      <td>1.568262</td>\n",
       "      <td>1.625002</td>\n",
       "      <td>1.840486</td>\n",
       "      <td>1.991143</td>\n",
       "      <td>1.762171</td>\n",
       "      <td>1.65241</td>\n",
       "      <td>...</td>\n",
       "      <td>-0.394255</td>\n",
       "      <td>0.153895</td>\n",
       "      <td>0.082987</td>\n",
       "      <td>0.022155</td>\n",
       "      <td>-0.502247</td>\n",
       "      <td>0.316291</td>\n",
       "      <td>-0.090363</td>\n",
       "      <td>0.122485</td>\n",
       "      <td>-0.064629</td>\n",
       "      <td>-0.254646</td>\n",
       "    </tr>\n",
       "    <tr>\n",
       "      <th>2</th>\n",
       "      <td>0.000000</td>\n",
       "      <td>0.000000</td>\n",
       "      <td>1.540201</td>\n",
       "      <td>-0.14559</td>\n",
       "      <td>1.568262</td>\n",
       "      <td>1.625002</td>\n",
       "      <td>1.840486</td>\n",
       "      <td>1.991143</td>\n",
       "      <td>1.762171</td>\n",
       "      <td>1.65241</td>\n",
       "      <td>...</td>\n",
       "      <td>-0.394255</td>\n",
       "      <td>0.153895</td>\n",
       "      <td>0.082987</td>\n",
       "      <td>0.022155</td>\n",
       "      <td>-0.502247</td>\n",
       "      <td>0.316291</td>\n",
       "      <td>-0.090363</td>\n",
       "      <td>0.122485</td>\n",
       "      <td>-0.064629</td>\n",
       "      <td>-0.254646</td>\n",
       "    </tr>\n",
       "    <tr>\n",
       "      <th>3</th>\n",
       "      <td>0.000000</td>\n",
       "      <td>0.000000</td>\n",
       "      <td>0.000000</td>\n",
       "      <td>-0.14559</td>\n",
       "      <td>1.568262</td>\n",
       "      <td>1.625002</td>\n",
       "      <td>1.840486</td>\n",
       "      <td>1.991143</td>\n",
       "      <td>1.762171</td>\n",
       "      <td>1.65241</td>\n",
       "      <td>...</td>\n",
       "      <td>-0.394255</td>\n",
       "      <td>0.153895</td>\n",
       "      <td>0.082987</td>\n",
       "      <td>0.022155</td>\n",
       "      <td>-0.502247</td>\n",
       "      <td>0.316291</td>\n",
       "      <td>-0.090363</td>\n",
       "      <td>0.122485</td>\n",
       "      <td>-0.064629</td>\n",
       "      <td>-0.254646</td>\n",
       "    </tr>\n",
       "    <tr>\n",
       "      <th>4</th>\n",
       "      <td>0.000000</td>\n",
       "      <td>0.000000</td>\n",
       "      <td>0.000000</td>\n",
       "      <td>0.00000</td>\n",
       "      <td>1.568262</td>\n",
       "      <td>1.625002</td>\n",
       "      <td>1.840486</td>\n",
       "      <td>1.991143</td>\n",
       "      <td>1.762171</td>\n",
       "      <td>1.65241</td>\n",
       "      <td>...</td>\n",
       "      <td>-0.394255</td>\n",
       "      <td>0.153895</td>\n",
       "      <td>0.082987</td>\n",
       "      <td>0.022155</td>\n",
       "      <td>-0.502247</td>\n",
       "      <td>0.316291</td>\n",
       "      <td>-0.090363</td>\n",
       "      <td>0.122485</td>\n",
       "      <td>-0.064629</td>\n",
       "      <td>-0.254646</td>\n",
       "    </tr>\n",
       "    <tr>\n",
       "      <th>...</th>\n",
       "      <td>...</td>\n",
       "      <td>...</td>\n",
       "      <td>...</td>\n",
       "      <td>...</td>\n",
       "      <td>...</td>\n",
       "      <td>...</td>\n",
       "      <td>...</td>\n",
       "      <td>...</td>\n",
       "      <td>...</td>\n",
       "      <td>...</td>\n",
       "      <td>...</td>\n",
       "      <td>...</td>\n",
       "      <td>...</td>\n",
       "      <td>...</td>\n",
       "      <td>...</td>\n",
       "      <td>...</td>\n",
       "      <td>...</td>\n",
       "      <td>...</td>\n",
       "      <td>...</td>\n",
       "      <td>...</td>\n",
       "      <td>...</td>\n",
       "    </tr>\n",
       "    <tr>\n",
       "      <th>995</th>\n",
       "      <td>0.000000</td>\n",
       "      <td>0.000000</td>\n",
       "      <td>0.000000</td>\n",
       "      <td>0.00000</td>\n",
       "      <td>0.000000</td>\n",
       "      <td>0.000000</td>\n",
       "      <td>0.000000</td>\n",
       "      <td>0.000000</td>\n",
       "      <td>0.000000</td>\n",
       "      <td>0.00000</td>\n",
       "      <td>...</td>\n",
       "      <td>0.000000</td>\n",
       "      <td>0.000000</td>\n",
       "      <td>0.000000</td>\n",
       "      <td>0.000000</td>\n",
       "      <td>0.000000</td>\n",
       "      <td>0.316291</td>\n",
       "      <td>-0.090363</td>\n",
       "      <td>0.122485</td>\n",
       "      <td>-0.064629</td>\n",
       "      <td>-0.254646</td>\n",
       "    </tr>\n",
       "    <tr>\n",
       "      <th>996</th>\n",
       "      <td>0.000000</td>\n",
       "      <td>0.000000</td>\n",
       "      <td>0.000000</td>\n",
       "      <td>0.00000</td>\n",
       "      <td>0.000000</td>\n",
       "      <td>0.000000</td>\n",
       "      <td>0.000000</td>\n",
       "      <td>0.000000</td>\n",
       "      <td>0.000000</td>\n",
       "      <td>0.00000</td>\n",
       "      <td>...</td>\n",
       "      <td>0.000000</td>\n",
       "      <td>0.000000</td>\n",
       "      <td>0.000000</td>\n",
       "      <td>0.000000</td>\n",
       "      <td>0.000000</td>\n",
       "      <td>0.000000</td>\n",
       "      <td>-0.090363</td>\n",
       "      <td>0.122485</td>\n",
       "      <td>-0.064629</td>\n",
       "      <td>-0.254646</td>\n",
       "    </tr>\n",
       "    <tr>\n",
       "      <th>997</th>\n",
       "      <td>0.000000</td>\n",
       "      <td>0.000000</td>\n",
       "      <td>0.000000</td>\n",
       "      <td>0.00000</td>\n",
       "      <td>0.000000</td>\n",
       "      <td>0.000000</td>\n",
       "      <td>0.000000</td>\n",
       "      <td>0.000000</td>\n",
       "      <td>0.000000</td>\n",
       "      <td>0.00000</td>\n",
       "      <td>...</td>\n",
       "      <td>0.000000</td>\n",
       "      <td>0.000000</td>\n",
       "      <td>0.000000</td>\n",
       "      <td>0.000000</td>\n",
       "      <td>0.000000</td>\n",
       "      <td>0.000000</td>\n",
       "      <td>0.000000</td>\n",
       "      <td>0.122485</td>\n",
       "      <td>-0.064629</td>\n",
       "      <td>-0.254646</td>\n",
       "    </tr>\n",
       "    <tr>\n",
       "      <th>998</th>\n",
       "      <td>0.000000</td>\n",
       "      <td>0.000000</td>\n",
       "      <td>0.000000</td>\n",
       "      <td>0.00000</td>\n",
       "      <td>0.000000</td>\n",
       "      <td>0.000000</td>\n",
       "      <td>0.000000</td>\n",
       "      <td>0.000000</td>\n",
       "      <td>0.000000</td>\n",
       "      <td>0.00000</td>\n",
       "      <td>...</td>\n",
       "      <td>0.000000</td>\n",
       "      <td>0.000000</td>\n",
       "      <td>0.000000</td>\n",
       "      <td>0.000000</td>\n",
       "      <td>0.000000</td>\n",
       "      <td>0.000000</td>\n",
       "      <td>0.000000</td>\n",
       "      <td>0.000000</td>\n",
       "      <td>-0.064629</td>\n",
       "      <td>-0.254646</td>\n",
       "    </tr>\n",
       "    <tr>\n",
       "      <th>999</th>\n",
       "      <td>0.000000</td>\n",
       "      <td>0.000000</td>\n",
       "      <td>0.000000</td>\n",
       "      <td>0.00000</td>\n",
       "      <td>0.000000</td>\n",
       "      <td>0.000000</td>\n",
       "      <td>0.000000</td>\n",
       "      <td>0.000000</td>\n",
       "      <td>0.000000</td>\n",
       "      <td>0.00000</td>\n",
       "      <td>...</td>\n",
       "      <td>0.000000</td>\n",
       "      <td>0.000000</td>\n",
       "      <td>0.000000</td>\n",
       "      <td>0.000000</td>\n",
       "      <td>0.000000</td>\n",
       "      <td>0.000000</td>\n",
       "      <td>0.000000</td>\n",
       "      <td>0.000000</td>\n",
       "      <td>0.000000</td>\n",
       "      <td>-0.254646</td>\n",
       "    </tr>\n",
       "  </tbody>\n",
       "</table>\n",
       "<p>1000 rows × 1000 columns</p>\n",
       "</div>"
      ],
      "text/plain": [
       "          0         1         2        3         4         5         6    \\\n",
       "0    0.302758 -0.071668  1.540201 -0.14559  1.568262  1.625002  1.840486   \n",
       "1    0.000000 -0.071668  1.540201 -0.14559  1.568262  1.625002  1.840486   \n",
       "2    0.000000  0.000000  1.540201 -0.14559  1.568262  1.625002  1.840486   \n",
       "3    0.000000  0.000000  0.000000 -0.14559  1.568262  1.625002  1.840486   \n",
       "4    0.000000  0.000000  0.000000  0.00000  1.568262  1.625002  1.840486   \n",
       "..        ...       ...       ...      ...       ...       ...       ...   \n",
       "995  0.000000  0.000000  0.000000  0.00000  0.000000  0.000000  0.000000   \n",
       "996  0.000000  0.000000  0.000000  0.00000  0.000000  0.000000  0.000000   \n",
       "997  0.000000  0.000000  0.000000  0.00000  0.000000  0.000000  0.000000   \n",
       "998  0.000000  0.000000  0.000000  0.00000  0.000000  0.000000  0.000000   \n",
       "999  0.000000  0.000000  0.000000  0.00000  0.000000  0.000000  0.000000   \n",
       "\n",
       "          7         8        9    ...       990       991       992       993  \\\n",
       "0    1.991143  1.762171  1.65241  ... -0.394255  0.153895  0.082987  0.022155   \n",
       "1    1.991143  1.762171  1.65241  ... -0.394255  0.153895  0.082987  0.022155   \n",
       "2    1.991143  1.762171  1.65241  ... -0.394255  0.153895  0.082987  0.022155   \n",
       "3    1.991143  1.762171  1.65241  ... -0.394255  0.153895  0.082987  0.022155   \n",
       "4    1.991143  1.762171  1.65241  ... -0.394255  0.153895  0.082987  0.022155   \n",
       "..        ...       ...      ...  ...       ...       ...       ...       ...   \n",
       "995  0.000000  0.000000  0.00000  ...  0.000000  0.000000  0.000000  0.000000   \n",
       "996  0.000000  0.000000  0.00000  ...  0.000000  0.000000  0.000000  0.000000   \n",
       "997  0.000000  0.000000  0.00000  ...  0.000000  0.000000  0.000000  0.000000   \n",
       "998  0.000000  0.000000  0.00000  ...  0.000000  0.000000  0.000000  0.000000   \n",
       "999  0.000000  0.000000  0.00000  ...  0.000000  0.000000  0.000000  0.000000   \n",
       "\n",
       "          994       995       996       997       998       999  \n",
       "0   -0.502247  0.316291 -0.090363  0.122485 -0.064629 -0.254646  \n",
       "1   -0.502247  0.316291 -0.090363  0.122485 -0.064629 -0.254646  \n",
       "2   -0.502247  0.316291 -0.090363  0.122485 -0.064629 -0.254646  \n",
       "3   -0.502247  0.316291 -0.090363  0.122485 -0.064629 -0.254646  \n",
       "4   -0.502247  0.316291 -0.090363  0.122485 -0.064629 -0.254646  \n",
       "..        ...       ...       ...       ...       ...       ...  \n",
       "995  0.000000  0.316291 -0.090363  0.122485 -0.064629 -0.254646  \n",
       "996  0.000000  0.000000 -0.090363  0.122485 -0.064629 -0.254646  \n",
       "997  0.000000  0.000000  0.000000  0.122485 -0.064629 -0.254646  \n",
       "998  0.000000  0.000000  0.000000  0.000000 -0.064629 -0.254646  \n",
       "999  0.000000  0.000000  0.000000  0.000000  0.000000 -0.254646  \n",
       "\n",
       "[1000 rows x 1000 columns]"
      ]
     },
     "execution_count": 44,
     "metadata": {},
     "output_type": "execute_result"
    }
   ],
   "source": [
    "pd.DataFrame(np.triu([self.reward_memory]*len(self.action_memory), k=0))"
   ]
  },
  {
   "cell_type": "code",
   "execution_count": 35,
   "id": "71276a67",
   "metadata": {},
   "outputs": [
    {
     "name": "stdout",
     "output_type": "stream",
     "text": [
      "10 loops, best of 3: 78.9 ms per loop\n"
     ]
    }
   ],
   "source": [
    "%%timeit\n",
    "arr_rwrd=np.triu([self.reward_memory]*len(self.action_memory), k=0)\n",
    "n = len(self.action_memory)\n",
    "b = np.zeros(2 * n+1)\n",
    "b[n:] = self.gamma ** np.arange(n+1)\n",
    "s, = b.strides\n",
    "dscnt = np.lib.stride_tricks.as_strided(b[n:], shape=(n, n), strides=(-s, s), writeable=False)\n",
    "G = (arr_rwrd*dscnt).sum(axis=1)"
   ]
  },
  {
   "cell_type": "code",
   "execution_count": null,
   "id": "7b0d5452",
   "metadata": {},
   "outputs": [],
   "source": [
    "# https://stackoverflow.com/questions/62820339/numpy-create-upper-triangular-matrix-with-diagonals-of-increasing-power/62820764#62820764"
   ]
  },
  {
   "cell_type": "code",
   "execution_count": 36,
   "id": "3d7ba91a",
   "metadata": {},
   "outputs": [
    {
     "name": "stdout",
     "output_type": "stream",
     "text": [
      "10 loops, best of 3: 160 ms per loop\n"
     ]
    }
   ],
   "source": [
    "%%timeit\n",
    "G = np.zeros_like(self.reward_memory, dtype=np.float64)\n",
    "for t in range(len(self.reward_memory)):\n",
    "    G_sum=0\n",
    "    discount=1\n",
    "    for k in range(t, len(self.action_memory)):\n",
    "        G_sum += self.reward_memory[k] *discount\n",
    "        discount *= self.gamma\n",
    "    G[t]=G_sum"
   ]
  },
  {
   "cell_type": "markdown",
   "id": "20759c53",
   "metadata": {},
   "source": [
    "## Result:\n",
    "* Vecortized code is twices as fast for calculating G"
   ]
  },
  {
   "cell_type": "markdown",
   "id": "8f736854",
   "metadata": {},
   "source": [
    "# Fin"
   ]
  },
  {
   "cell_type": "code",
   "execution_count": 13,
   "id": "1557b98b",
   "metadata": {},
   "outputs": [
    {
     "name": "stdout",
     "output_type": "stream",
     "text": [
      "Finished: Tuesday September 28, 2021 at 10:15\n"
     ]
    }
   ],
   "source": [
    "end=dt.datetime.now()\n",
    "print(f'Finished: {end.strftime(\"%A %B %d, %Y\")} at {end.strftime(\"%H:%M\")}')"
   ]
  }
 ],
 "metadata": {
  "kernelspec": {
   "display_name": "Python 3 (ipykernel)",
   "language": "python",
   "name": "python3"
  },
  "language_info": {
   "codemirror_mode": {
    "name": "ipython",
    "version": 3
   },
   "file_extension": ".py",
   "mimetype": "text/x-python",
   "name": "python",
   "nbconvert_exporter": "python",
   "pygments_lexer": "ipython3",
   "version": "3.7.11"
  }
 },
 "nbformat": 4,
 "nbformat_minor": 5
}
