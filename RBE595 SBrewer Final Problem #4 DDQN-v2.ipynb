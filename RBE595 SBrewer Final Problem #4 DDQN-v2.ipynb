{
 "cells": [
  {
   "cell_type": "code",
   "execution_count": 3,
   "id": "special-penny",
   "metadata": {},
   "outputs": [
    {
     "data": {
      "text/html": [
       "<style>.container { width:90% !important; }</style>"
      ],
      "text/plain": [
       "<IPython.core.display.HTML object>"
      ]
     },
     "metadata": {},
     "output_type": "display_data"
    }
   ],
   "source": [
    "from IPython.core.display import display, HTML\n",
    "display(HTML(\"<style>.container { width:90% !important; }</style>\"))"
   ]
  },
  {
   "cell_type": "code",
   "execution_count": 4,
   "id": "failing-playback",
   "metadata": {},
   "outputs": [
    {
     "name": "stderr",
     "output_type": "stream",
     "text": [
      "Using TensorFlow backend.\n"
     ]
    }
   ],
   "source": [
    "import os\n",
    "import gym\n",
    "import random\n",
    "import numpy as np\n",
    "import tensorflow as tf\n",
    "from collections import deque\n",
    "from skimage.color import rgb2gray\n",
    "from skimage.transform import resize\n",
    "from scipy.signal import savgol_filter\n",
    "from keras.models import Sequential\n",
    "from keras.layers import Conv2D, Flatten, Dense, Dropout, MaxPooling2D\n",
    "\n",
    "from IPython import display\n",
    "import matplotlib.pyplot as plt"
   ]
  },
  {
   "cell_type": "code",
   "execution_count": 5,
   "id": "working-adolescent",
   "metadata": {},
   "outputs": [],
   "source": [
    "env_name = 'Seaquest-v0'  # Environment name"
   ]
  },
  {
   "cell_type": "markdown",
   "id": "permanent-recipient",
   "metadata": {},
   "source": [
    "# Parameters"
   ]
  },
  {
   "cell_type": "code",
   "execution_count": 6,
   "id": "necessary-afternoon",
   "metadata": {},
   "outputs": [],
   "source": [
    "frame_width = 128 # Resized frame width\n",
    "frame_height = 128  # Resized frame height\n",
    "state_len = 4  # Number of most recent frames to produce the input to the network\n",
    "\n",
    "num_episodes = 50  # Number of episodes the agent plays\n",
    "\n",
    "gamma = 0.99  # Discount factor\n",
    "\n",
    "initial_espilon= 1.0  # Initial value of epsilon in epsilon-greedy\n",
    "min_esp = 0.1  # Final value of epsilon in epsilon-greedy\n",
    "\n",
    "initial_replay_size = 1e4  # Number of steps to populate the replay memory before training starts\n",
    "num_replay_memory = 5e4  # Number of replay memory the agent uses for training\n",
    "\n",
    "bs = 64  # Mini batch size\n",
    "trgt_intvl_updt = 1e4  # The frequency with which the target network is updated\n",
    "\n",
    "trn_intvl = 4  # The agent selects 4 actions between successive updates\n",
    "\n",
    "lr = 0.0003  # Learning rate \n",
    "min_grad= 0.01  # Constant added to the squared gradient in the denominator of the update\n",
    "\n",
    "NoUpdt_steps = 4 # Maximum number of \"do nothing\" actions to be performed by the agent at the start of an episode\n",
    "\n",
    "test_num_episodes = 30  # Number of episodes the agent plays at test time"
   ]
  },
  {
   "cell_type": "code",
   "execution_count": 7,
   "id": "decent-colorado",
   "metadata": {},
   "outputs": [
    {
     "data": {
      "image/png": "[encoded data removed]",
      "text/plain": [
       "<Figure size 648x648 with 1 Axes>"
      ]
     },
     "metadata": {
      "needs_background": "light"
     },
     "output_type": "display_data"
    }
   ],
   "source": [
    "env = gym.make(env_name)\n",
    "env.reset()\n",
    "plt.figure(figsize=(9,9))\n",
    "img = plt.imshow(env.render(mode='rgb_array')) \n",
    "for _ in range(10):\n",
    "    img.set_data(env.render(mode='rgb_array')) \n",
    "    display.display(plt.gcf())\n",
    "    display.clear_output(wait=True)\n",
    "    action = env.action_space.sample()\n",
    "    env.step(action)\n",
    "env.close()"
   ]
  },
  {
   "cell_type": "code",
   "execution_count": null,
   "id": "hungry-nowhere",
   "metadata": {},
   "outputs": [],
   "source": []
  },
  {
   "cell_type": "code",
   "execution_count": 8,
   "id": "hispanic-convenience",
   "metadata": {},
   "outputs": [],
   "source": [
    "class DDQNAgent():\n",
    "    def __init__(self, num_actions):\n",
    "        self.num_actions = num_actions\n",
    "        self.epsilon = initial_espilon\n",
    "        self.epsilon_step = (initial_espilon - min_esp) * 1e-6\n",
    "        self.t = 0\n",
    "\n",
    "        # Parameters used for summary\n",
    "        self.total_reward = 0\n",
    "        self.total_q_max = 0\n",
    "        self.total_loss = 0\n",
    "        self.duration = 0\n",
    "        self.episode = 0\n",
    "\n",
    "        # Create replay memory\n",
    "        self.replay_memory = deque()\n",
    "        # Ceate history for plotting\n",
    "        self.stat_history=[]\n",
    "\n",
    "        # Create q network\n",
    "        self.s, self.q_values, q_network = self.make_network()\n",
    "        q_network_weights = q_network.trainable_weights\n",
    "\n",
    "        # Create target network\n",
    "        self.st, self.target_q_values, target_network = self.make_network()\n",
    "        target_network_weights = target_network.trainable_weights\n",
    "\n",
    "        # Define target network update operation\n",
    "        self.update_target_network = [target_network_weights[i].assign(q_network_weights[i]) for i in range(len(target_network_weights))]\n",
    "\n",
    "        # Define loss and gradient update operation\n",
    "        self.a, self.y, self.loss, self.grads_update = self.build_training_op(q_network_weights)\n",
    "\n",
    "        self.sess = tf.InteractiveSession()\n",
    "        self.saver = tf.train.Saver(q_network_weights)\n",
    "       \n",
    "        self.sess.run(tf.initialize_all_variables())\n",
    "\n",
    "        # Initialize target network\n",
    "        self.sess.run(self.update_target_network)\n",
    "\n",
    "    def make_network(self):\n",
    "        model = Sequential()\n",
    "        model.add(Conv2D(32, (8, 8), subsample=(4, 4), activation='relu', \n",
    "                                input_shape=(state_len, frame_width, frame_height),\n",
    "                                data_format=\"channels_first\", padding='same'))\n",
    "        #model.add(MaxPooling2D(pool_size=(2, 2))) # blew up do not use\n",
    "        model.add(Dropout(0.05))\n",
    "        model.add(Conv2D(64, (4, 4), subsample=(2, 2), activation='relu', padding='same'))\n",
    "        #model.add(MaxPooling2D(pool_size=(2, 2))) # blew up not not use\n",
    "        model.add(Dropout(0.05))\n",
    "        model.add(Conv2D(128, (3, 3), subsample=(1, 1), activation='relu', padding='same'))\n",
    "        #model.add(MaxPooling2D(pool_size=(2, 2))) # blew up not not use\n",
    "        model.add(Dropout(0.05))\n",
    "        model.add(Flatten())\n",
    "        model.add(Dense(512, activation='relu'))\n",
    "        model.add(Dense(self.num_actions))\n",
    "\n",
    "        s = tf.placeholder(tf.float32, [None, state_len, frame_width, frame_height])\n",
    "        q_values = model(s)\n",
    "\n",
    "        return s, q_values, model\n",
    "\n",
    "    def build_training_op(self, q_network_weights):\n",
    "        a = tf.placeholder(tf.int64, [None])\n",
    "        y = tf.placeholder(tf.float32, [None])\n",
    "\n",
    "        # Convert action to one hot vector\n",
    "        a_one_hot = tf.one_hot(a, self.num_actions, 1.0, 0.0)\n",
    "        q_value = tf.reduce_sum(tf.multiply(self.q_values, a_one_hot), reduction_indices=1)\n",
    "\n",
    "        # Clip the error, the loss is quadratic when the error is in (-1, 1), and linear outside of that region\n",
    "        error = tf.abs(y - q_value)\n",
    "        quadratic_part = tf.clip_by_value(error, 0.0, 1.0)\n",
    "        linear_part = error - quadratic_part\n",
    "        loss = tf.reduce_mean(0.5 * tf.square(quadratic_part) + linear_part)\n",
    "\n",
    "        optimizer = tf.train.AdamOptimizer(lr, epsilon=min_grad)\n",
    "        grads_update = optimizer.minimize(loss, var_list=q_network_weights)\n",
    "\n",
    "        return a, y, loss, grads_update\n",
    "\n",
    "    def get_initial_state(self, observation, last_observation):\n",
    "        processed_observation = np.maximum(observation, last_observation)\n",
    "        processed_observation = np.uint8(resize(rgb2gray(processed_observation), (frame_width, frame_height)) * 255)\n",
    "        state = [processed_observation for _ in range(state_len)]\n",
    "        return np.stack(state, axis=0)\n",
    "\n",
    "    def get_action(self, state):\n",
    "        if self.epsilon >= random.random() or self.t < initial_replay_size:\n",
    "            action = random.randrange(self.num_actions)\n",
    "        else:\n",
    "            action = np.argmax(self.q_values.eval(feed_dict={self.s: [np.float32(state / 255.0)]}))\n",
    "\n",
    "        # Anneal epsilon linearly over time\n",
    "        if self.epsilon > min_esp and self.t >= initial_replay_size:\n",
    "            self.epsilon -= self.epsilon_step\n",
    "\n",
    "        return action\n",
    "\n",
    "    def run(self, state, action, reward, terminal, observation):\n",
    "        next_state = np.append(state[1:, :, :], observation, axis=0)\n",
    "\n",
    "        # Clip all positive rewards at 1 and all negative rewards at -1, leaving 0 rewards unchanged\n",
    "        reward = np.clip(reward, -1, 1)\n",
    "\n",
    "        # Store transition in replay memory\n",
    "        self.replay_memory.append((state, action, reward, next_state, terminal))\n",
    "        if len(self.replay_memory) > num_replay_memory:\n",
    "            self.replay_memory.popleft()\n",
    "\n",
    "        if self.t >= initial_replay_size:\n",
    "            # Train network\n",
    "            if self.t % trn_intvl == 0:\n",
    "                self.train_network()\n",
    "\n",
    "            # Update target network\n",
    "            if self.t % trgt_intvl_updt == 0:\n",
    "                self.sess.run(self.update_target_network)\n",
    "\n",
    "        self.total_reward += reward\n",
    "        self.total_q_max += np.max(self.q_values.eval(feed_dict={self.s: [np.float32(state / 255.0)]}))\n",
    "        self.duration += 1\n",
    "\n",
    "        if terminal:\n",
    "            print('Episode: {0:3d} Timestep: {1:5d} Duration: {2:3d} Epsilon: {3:.5f} Total_reward: {4:3.0f} Avg_max_Q: {5:2.4f} Avg_loss: {6:.5f}'.format(\n",
    "                self.episode + 1, self.t, self.duration, self.epsilon,\n",
    "                self.total_reward, self.total_q_max / float(self.duration),\n",
    "                self.total_loss / (float(self.duration) / float(trn_intvl))))\n",
    "            \n",
    "            self.stat_history.append([self.episode + 1, self.t, self.duration, self.epsilon,\n",
    "                self.total_reward, self.total_q_max / float(self.duration),\n",
    "                self.total_loss / (float(self.duration) / float(trn_intvl))])\n",
    "\n",
    "            self.total_reward = 0\n",
    "            self.total_q_max = 0\n",
    "            self.total_loss = 0\n",
    "            self.duration = 0\n",
    "            self.episode += 1\n",
    "\n",
    "        self.t += 1\n",
    "\n",
    "        return next_state\n",
    "\n",
    "    def train_network(self):\n",
    "        state_batch = []\n",
    "        action_batch = []\n",
    "        reward_batch = []\n",
    "        next_state_batch = []\n",
    "        terminal_batch = []\n",
    "        y_batch = []\n",
    "\n",
    "        # Sample random minibatch of transition from replay memory\n",
    "        minibatch = random.sample(self.replay_memory, bs)\n",
    "        for data in minibatch:\n",
    "            state_batch.append(data[0])\n",
    "            action_batch.append(data[1])\n",
    "            reward_batch.append(data[2])\n",
    "            next_state_batch.append(data[3])\n",
    "            terminal_batch.append(data[4])\n",
    "\n",
    "        # Convert True to 1, False to 0\n",
    "        terminal_batch = np.array(terminal_batch) + 0\n",
    "\n",
    "        next_action_batch = np.argmax(self.q_values.eval(feed_dict={self.s: next_state_batch}), axis=1)\n",
    "        target_q_values_batch = self.target_q_values.eval(feed_dict={self.st: next_state_batch})\n",
    "        for i in range(len(minibatch)):\n",
    "            y_batch.append(reward_batch[i] + (1 - terminal_batch[i]) * gamma * target_q_values_batch[i][next_action_batch[i]])\n",
    "\n",
    "        loss, _ = self.sess.run([self.loss, self.grads_update], feed_dict={\n",
    "            self.s: np.float32(np.array(state_batch) / 255.0),\n",
    "            self.a: action_batch,\n",
    "            self.y: y_batch\n",
    "        })\n",
    "\n",
    "        self.total_loss += loss\n",
    "\n",
    "    def get_action_at_test(self, state):\n",
    "        action = np.argmax(self.q_values.eval(feed_dict={self.s: [np.float32(state / 255.0)]}))\n",
    "        self.t += 1\n",
    "\n",
    "        return action"
   ]
  },
  {
   "cell_type": "code",
   "execution_count": 9,
   "id": "friendly-invite",
   "metadata": {},
   "outputs": [],
   "source": [
    "def preprocess(observation, last_observation):\n",
    "    processed_observation = np.maximum(observation, last_observation)\n",
    "    processed_observation = np.uint8(resize(rgb2gray(processed_observation), (frame_width, frame_height)) * 255)\n",
    "    return np.reshape(processed_observation, (1, frame_width, frame_height))"
   ]
  },
  {
   "cell_type": "code",
   "execution_count": 10,
   "id": "scheduled-inclusion",
   "metadata": {},
   "outputs": [
    {
     "name": "stdout",
     "output_type": "stream",
     "text": [
      "WARNING:tensorflow:From /home/stev/anaconda3/envs/DeepRL/lib/python3.6/site-packages/tensorflow_core/python/ops/resource_variable_ops.py:1630: calling BaseResourceVariable.__init__ (from tensorflow.python.ops.resource_variable_ops) with constraint is deprecated and will be removed in a future version.\n",
      "Instructions for updating:\n",
      "If using Keras pass *_constraint arguments to layers.\n"
     ]
    },
    {
     "name": "stderr",
     "output_type": "stream",
     "text": [
      "/home/stev/anaconda3/envs/DeepRL/lib/python3.6/site-packages/ipykernel_launcher.py:46: UserWarning: Update your `Conv2D` call to the Keras 2 API: `Conv2D(32, (8, 8), activation=\"relu\", input_shape=(4, 128, 1..., data_format=\"channels_first\", padding=\"same\", strides=(4, 4))`\n",
      "/home/stev/anaconda3/envs/DeepRL/lib/python3.6/site-packages/ipykernel_launcher.py:49: UserWarning: Update your `Conv2D` call to the Keras 2 API: `Conv2D(64, (4, 4), activation=\"relu\", padding=\"same\", strides=(2, 2))`\n",
      "/home/stev/anaconda3/envs/DeepRL/lib/python3.6/site-packages/ipykernel_launcher.py:52: UserWarning: Update your `Conv2D` call to the Keras 2 API: `Conv2D(128, (3, 3), activation=\"relu\", padding=\"same\", strides=(1, 1))`\n"
     ]
    },
    {
     "name": "stdout",
     "output_type": "stream",
     "text": [
      "WARNING:tensorflow:From /home/stev/anaconda3/envs/DeepRL/lib/python3.6/site-packages/tensorflow_core/python/ops/math_grad.py:1424: where (from tensorflow.python.ops.array_ops) is deprecated and will be removed in a future version.\n",
      "Instructions for updating:\n",
      "Use tf.where in 2.0, which has the same broadcast rule as np.where\n",
      "WARNING:tensorflow:From /home/stev/anaconda3/envs/DeepRL/lib/python3.6/site-packages/tensorflow_core/python/util/tf_should_use.py:198: initialize_all_variables (from tensorflow.python.ops.variables) is deprecated and will be removed after 2017-03-02.\n",
      "Instructions for updating:\n",
      "Use `tf.global_variables_initializer` instead.\n"
     ]
    }
   ],
   "source": [
    "env = gym.make(env_name)\n",
    "agent = DDQNAgent(num_actions=env.action_space.n)"
   ]
  },
  {
   "cell_type": "markdown",
   "id": "arbitrary-being",
   "metadata": {},
   "source": [
    "# Train mode"
   ]
  },
  {
   "cell_type": "code",
   "execution_count": 11,
   "id": "announced-zoning",
   "metadata": {
    "scrolled": true
   },
   "outputs": [
    {
     "name": "stdout",
     "output_type": "stream",
     "text": [
      "Episode:   1 Timestep:   583 Duration: 584 Epsilon: 1.00000 Total_reward:   3 Avg_max_Q: 0.0669 Avg_loss: 0.00000\n",
      "Episode:   2 Timestep:  1253 Duration: 670 Epsilon: 1.00000 Total_reward:   3 Avg_max_Q: 0.0680 Avg_loss: 0.00000\n",
      "Episode:   3 Timestep:  2070 Duration: 817 Epsilon: 1.00000 Total_reward:   4 Avg_max_Q: 0.0676 Avg_loss: 0.00000\n",
      "Episode:   4 Timestep:  2967 Duration: 897 Epsilon: 1.00000 Total_reward:   4 Avg_max_Q: 0.0670 Avg_loss: 0.00000\n",
      "Episode:   5 Timestep:  3551 Duration: 584 Epsilon: 1.00000 Total_reward:   5 Avg_max_Q: 0.0678 Avg_loss: 0.00000\n",
      "Episode:   6 Timestep:  4119 Duration: 568 Epsilon: 1.00000 Total_reward:   3 Avg_max_Q: 0.0673 Avg_loss: 0.00000\n",
      "Episode:   7 Timestep:  4972 Duration: 853 Epsilon: 1.00000 Total_reward:   6 Avg_max_Q: 0.0683 Avg_loss: 0.00000\n",
      "Episode:   8 Timestep:  5502 Duration: 530 Epsilon: 1.00000 Total_reward:   2 Avg_max_Q: 0.0668 Avg_loss: 0.00000\n",
      "Episode:   9 Timestep:  6229 Duration: 727 Epsilon: 1.00000 Total_reward:   4 Avg_max_Q: 0.0687 Avg_loss: 0.00000\n",
      "Episode:  10 Timestep:  7044 Duration: 815 Epsilon: 1.00000 Total_reward:   6 Avg_max_Q: 0.0672 Avg_loss: 0.00000\n",
      "Episode:  11 Timestep:  7539 Duration: 495 Epsilon: 1.00000 Total_reward:   1 Avg_max_Q: 0.0679 Avg_loss: 0.00000\n",
      "Episode:  12 Timestep:  8037 Duration: 498 Epsilon: 1.00000 Total_reward:   1 Avg_max_Q: 0.0664 Avg_loss: 0.00000\n",
      "Episode:  13 Timestep:  8769 Duration: 732 Epsilon: 1.00000 Total_reward:   7 Avg_max_Q: 0.0683 Avg_loss: 0.00000\n",
      "Episode:  14 Timestep:  9566 Duration: 797 Epsilon: 1.00000 Total_reward:   4 Avg_max_Q: 0.0681 Avg_loss: 0.00000\n",
      "Episode:  15 Timestep: 10040 Duration: 474 Epsilon: 0.99996 Total_reward:   0 Avg_max_Q: 0.0672 Avg_loss: 1.55787\n",
      "Episode:  16 Timestep: 10913 Duration: 873 Epsilon: 0.99918 Total_reward:   5 Avg_max_Q: 0.9392 Avg_loss: 3.99352\n",
      "Episode:  17 Timestep: 11358 Duration: 445 Epsilon: 0.99878 Total_reward:   0 Avg_max_Q: -0.0384 Avg_loss: 2.36558\n",
      "Episode:  18 Timestep: 12133 Duration: 775 Epsilon: 0.99808 Total_reward:   9 Avg_max_Q: 1.6607 Avg_loss: 12.14836\n",
      "Episode:  19 Timestep: 13413 Duration: 1280 Epsilon: 0.99693 Total_reward:   6 Avg_max_Q: -0.3879 Avg_loss: 6.20878\n",
      "Episode:  20 Timestep: 13906 Duration: 493 Epsilon: 0.99648 Total_reward:   1 Avg_max_Q: 0.0330 Avg_loss: 21.26138\n",
      "Episode:  21 Timestep: 14446 Duration: 540 Epsilon: 0.99600 Total_reward:   0 Avg_max_Q: -3.7958 Avg_loss: 17.40589\n",
      "Episode:  22 Timestep: 15153 Duration: 707 Epsilon: 0.99536 Total_reward:   3 Avg_max_Q: 7.8809 Avg_loss: 9.49758\n",
      "Episode:  23 Timestep: 16069 Duration: 916 Epsilon: 0.99454 Total_reward:   7 Avg_max_Q: -0.2201 Avg_loss: 4.64897\n",
      "Episode:  24 Timestep: 16820 Duration: 751 Epsilon: 0.99386 Total_reward:   6 Avg_max_Q: 4.5674 Avg_loss: 9.71551\n",
      "Episode:  25 Timestep: 17307 Duration: 487 Epsilon: 0.99342 Total_reward:   0 Avg_max_Q: 9.6973 Avg_loss: 9.69154\n",
      "Episode:  26 Timestep: 18093 Duration: 786 Epsilon: 0.99272 Total_reward:   4 Avg_max_Q: 1.6997 Avg_loss: 4.47576\n",
      "Episode:  27 Timestep: 18714 Duration: 621 Epsilon: 0.99216 Total_reward:   1 Avg_max_Q: 0.9743 Avg_loss: 4.80248\n",
      "Episode:  28 Timestep: 19278 Duration: 564 Epsilon: 0.99165 Total_reward:   2 Avg_max_Q: 0.9039 Avg_loss: 4.64389\n",
      "Episode:  29 Timestep: 20028 Duration: 750 Epsilon: 0.99097 Total_reward:   4 Avg_max_Q: 1.0403 Avg_loss: 6.38973\n",
      "Episode:  30 Timestep: 20573 Duration: 545 Epsilon: 0.99048 Total_reward:   3 Avg_max_Q: 2.0293 Avg_loss: 0.02536\n",
      "Episode:  31 Timestep: 21774 Duration: 1201 Epsilon: 0.98940 Total_reward:  10 Avg_max_Q: 1.7684 Avg_loss: 0.01458\n",
      "Episode:  32 Timestep: 22228 Duration: 454 Epsilon: 0.98899 Total_reward:   0 Avg_max_Q: 1.6993 Avg_loss: 0.01402\n",
      "Episode:  33 Timestep: 23034 Duration: 806 Epsilon: 0.98827 Total_reward:   5 Avg_max_Q: 1.6929 Avg_loss: 0.01267\n",
      "Episode:  34 Timestep: 24216 Duration: 1182 Epsilon: 0.98720 Total_reward:  10 Avg_max_Q: 1.6935 Avg_loss: 0.01369\n",
      "Episode:  35 Timestep: 25081 Duration: 865 Epsilon: 0.98643 Total_reward:   6 Avg_max_Q: 1.6878 Avg_loss: 0.01361\n",
      "Episode:  36 Timestep: 25662 Duration: 581 Epsilon: 0.98590 Total_reward:   2 Avg_max_Q: 1.6985 Avg_loss: 0.01418\n",
      "Episode:  37 Timestep: 26278 Duration: 616 Epsilon: 0.98535 Total_reward:   4 Avg_max_Q: 1.7010 Avg_loss: 0.01551\n",
      "Episode:  38 Timestep: 26798 Duration: 520 Epsilon: 0.98488 Total_reward:   1 Avg_max_Q: 1.7032 Avg_loss: 0.01559\n",
      "Episode:  39 Timestep: 28052 Duration: 1254 Epsilon: 0.98375 Total_reward:  13 Avg_max_Q: 1.7071 Avg_loss: 0.01490\n",
      "Episode:  40 Timestep: 28645 Duration: 593 Epsilon: 0.98322 Total_reward:   2 Avg_max_Q: 1.7024 Avg_loss: 0.01596\n",
      "Episode:  41 Timestep: 29256 Duration: 611 Epsilon: 0.98267 Total_reward:   2 Avg_max_Q: 1.6898 Avg_loss: 0.01577\n",
      "Episode:  42 Timestep: 30009 Duration: 753 Epsilon: 0.98199 Total_reward:   5 Avg_max_Q: 1.6992 Avg_loss: 0.01873\n",
      "Episode:  43 Timestep: 30830 Duration: 821 Epsilon: 0.98125 Total_reward:   6 Avg_max_Q: 2.4188 Avg_loss: 0.03826\n",
      "Episode:  44 Timestep: 31879 Duration: 1049 Epsilon: 0.98031 Total_reward:  10 Avg_max_Q: 2.4226 Avg_loss: 0.02898\n",
      "Episode:  45 Timestep: 32499 Duration: 620 Epsilon: 0.97975 Total_reward:   3 Avg_max_Q: 2.4133 Avg_loss: 0.02893\n",
      "Episode:  46 Timestep: 32960 Duration: 461 Epsilon: 0.97934 Total_reward:   0 Avg_max_Q: 2.4064 Avg_loss: 0.03150\n",
      "Episode:  47 Timestep: 33713 Duration: 753 Epsilon: 0.97866 Total_reward:   4 Avg_max_Q: 2.3992 Avg_loss: 0.03007\n",
      "Episode:  48 Timestep: 34495 Duration: 782 Epsilon: 0.97795 Total_reward:   5 Avg_max_Q: 2.3863 Avg_loss: 0.03072\n",
      "Episode:  49 Timestep: 35253 Duration: 758 Epsilon: 0.97727 Total_reward:   5 Avg_max_Q: 2.3463 Avg_loss: 0.03281\n",
      "Episode:  50 Timestep: 35664 Duration: 411 Epsilon: 0.97690 Total_reward:   0 Avg_max_Q: 2.3160 Avg_loss: 0.03409\n"
     ]
    }
   ],
   "source": [
    "for _ in range(num_episodes):\n",
    "    terminal = False\n",
    "    observation = env.reset()\n",
    "    for _ in range(random.randint(1, NoUpdt_steps)):\n",
    "        last_observation = observation\n",
    "        observation, _, _, _ = env.step(0)  # Do nothing\n",
    "    state = agent.get_initial_state(observation, last_observation)\n",
    "    while not terminal:\n",
    "        last_observation = observation\n",
    "        action = agent.get_action(state)\n",
    "        observation, reward, terminal, _ = env.step(action)\n",
    "\n",
    "        processed_observation = preprocess(observation, last_observation)\n",
    "        state = agent.run(state, action, reward, terminal, processed_observation)"
   ]
  },
  {
   "cell_type": "code",
   "execution_count": null,
   "id": "numerical-pearl",
   "metadata": {},
   "outputs": [],
   "source": []
  },
  {
   "cell_type": "code",
   "execution_count": 12,
   "id": "southern-volleyball",
   "metadata": {},
   "outputs": [
    {
     "data": {
      "image/png": "[encoded data removed]",
      "text/plain": [
       "<Figure size 720x360 with 1 Axes>"
      ]
     },
     "metadata": {
      "needs_background": "light"
     },
     "output_type": "display_data"
    }
   ],
   "source": [
    "data=np.array(agent.stat_history)\n",
    "x=data[:,0]\n",
    "y=data[:,4]\n",
    "\n",
    "y_trend=savgol_filter(y, 33, 3, mode='nearest')\n",
    "\n",
    "plt.figure(figsize=(10,5))\n",
    "plt.plot(x,y, 'o', alpha=0.1)\n",
    "plt.plot(x,y_trend, '-')\n",
    "plt.ylabel('Reward',fontsize=14, fontweight='bold')\n",
    "plt.xlabel('Episodes',fontsize=14, fontweight='bold')\n",
    "plt.title('Reward per Episode', fontsize=18, fontweight='bold')\n",
    "plt.grid()\n",
    "plt.show()\n",
    "\n"
   ]
  },
  {
   "cell_type": "code",
   "execution_count": 13,
   "id": "short-asset",
   "metadata": {},
   "outputs": [
    {
     "data": {
      "image/png": "[encoded data removed]",
      "text/plain": [
       "<Figure size 720x360 with 1 Axes>"
      ]
     },
     "metadata": {
      "needs_background": "light"
     },
     "output_type": "display_data"
    }
   ],
   "source": [
    "data=np.array(agent.stat_history)\n",
    "x=data[:,0]\n",
    "y=data[:,6]\n",
    "\n",
    "y_trend=savgol_filter(y, 33, 3, mode='nearest')\n",
    "\n",
    "plt.figure(figsize=(10,5))\n",
    "plt.plot(x,y, 'o', alpha=0.1)\n",
    "plt.plot(x,y_trend, '-')\n",
    "plt.ylabel('Average Q Max',fontsize=14, fontweight='bold')\n",
    "plt.xlabel('Episodes',fontsize=14, fontweight='bold')\n",
    "plt.title('Average Q Max per Episode', fontsize=18, fontweight='bold')\n",
    "plt.grid()\n",
    "plt.show()"
   ]
  },
  {
   "cell_type": "markdown",
   "id": "hollywood-ethnic",
   "metadata": {},
   "source": [
    "# Test mode"
   ]
  },
  {
   "cell_type": "code",
   "execution_count": 14,
   "id": "difficult-jerusalem",
   "metadata": {},
   "outputs": [
    {
     "data": {
      "text/plain": [
       "<Figure size 432x288 with 0 Axes>"
      ]
     },
     "metadata": {},
     "output_type": "display_data"
    }
   ],
   "source": [
    "for _ in range(test_num_episodes):\n",
    "    img.set_data(env.render(mode='rgb_array')) \n",
    "    display.display(plt.gcf())\n",
    "    display.clear_output(wait=True)\n",
    "    \n",
    "    terminal = False\n",
    "    observation = env.reset()\n",
    "    for _ in range(random.randint(1, NoUpdt_steps)):\n",
    "        last_observation = observation\n",
    "        observation, _, _, _ = env.step(0)  # Do nothing\n",
    "    state = agent.get_initial_state(observation, last_observation)\n",
    "    while not terminal:\n",
    "        last_observation = observation\n",
    "        action = agent.get_action_at_test(state)\n",
    "        observation, _, terminal, _ = env.step(action)\n",
    "        env.render()\n",
    "        processed_observation = preprocess(observation, last_observation)\n",
    "        state = np.append(state[1:, :, :], processed_observation, axis=0)\n",
    "env.close()"
   ]
  },
  {
   "cell_type": "code",
   "execution_count": 16,
   "id": "beneficial-token",
   "metadata": {},
   "outputs": [
    {
     "name": "stdout",
     "output_type": "stream",
     "text": [
      "Finished: 2021-05-09 17:25:18.493034\n"
     ]
    }
   ],
   "source": [
    "import datetime as dt\n",
    "print(f'Finished: {dt.datetime.now()}')"
   ]
  }
 ],
 "metadata": {
  "kernelspec": {
   "display_name": "Python 3",
   "language": "python",
   "name": "python3"
  },
  "language_info": {
   "codemirror_mode": {
    "name": "ipython",
    "version": 3
   },
   "file_extension": ".py",
   "mimetype": "text/x-python",
   "name": "python",
   "nbconvert_exporter": "python",
   "pygments_lexer": "ipython3",
   "version": "3.6.12"
  }
 },
 "nbformat": 4,
 "nbformat_minor": 5
}
