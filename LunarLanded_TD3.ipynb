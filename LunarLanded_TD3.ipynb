{
 "cells": [
  {
   "cell_type": "code",
   "execution_count": 1,
   "id": "bba61289",
   "metadata": {},
   "outputs": [
    {
     "data": {
      "text/html": [
       "<style>.container { width:90% !important; }</style>"
      ],
      "text/plain": [
       "<IPython.core.display.HTML object>"
      ]
     },
     "metadata": {},
     "output_type": "display_data"
    }
   ],
   "source": [
    "# Makes the display take up more of the screen\n",
    "from IPython.core.display import display, HTML\n",
    "display(HTML(\"<style>.container { width:90% !important; }</style>\"))"
   ]
  },
  {
   "cell_type": "code",
   "execution_count": 2,
   "id": "2f7c8c7e",
   "metadata": {},
   "outputs": [],
   "source": [
    "import os\n",
    "import gym\n",
    "import matplotlib.pyplot as plt\n",
    "import numpy as np\n",
    "import pandas as pd"
   ]
  },
  {
   "cell_type": "code",
   "execution_count": 3,
   "id": "0e2940c4",
   "metadata": {},
   "outputs": [],
   "source": [
    "import datetime as dt\n",
    "import time"
   ]
  },
  {
   "cell_type": "code",
   "execution_count": 4,
   "id": "480d2eff",
   "metadata": {},
   "outputs": [],
   "source": [
    "import torch as T\n",
    "import torch.nn as nn\n",
    "import torch.nn.functional as F\n",
    "import torch.optim as optim"
   ]
  },
  {
   "cell_type": "code",
   "execution_count": 5,
   "id": "3bfdf54f",
   "metadata": {},
   "outputs": [],
   "source": [
    "def set_seed(x): \n",
    "    #random.seed(x)\n",
    "    np.random.seed(x)\n",
    "    T.manual_seed(x)\n",
    "    T.backends.cudnn.deterministic = True\n",
    "    T.backends.cudnn.benchmark = False\n",
    "    if T.cuda.is_available(): \n",
    "        T.cuda.manual_seed_all(x)"
   ]
  },
  {
   "cell_type": "code",
   "execution_count": 6,
   "id": "cb695c08",
   "metadata": {},
   "outputs": [],
   "source": [
    "seed= 42\n",
    "set_seed(seed)"
   ]
  },
  {
   "cell_type": "code",
   "execution_count": 7,
   "id": "57fea738",
   "metadata": {},
   "outputs": [],
   "source": [
    "class ReplayBuffer():\n",
    "    def __init__(self, max_size, input_shape, n_actions):\n",
    "        self.mem_size = max_size\n",
    "        self.mem_cntr = 0\n",
    "        self.state_memory = np.zeros((self.mem_size, *input_shape))\n",
    "        self.new_state_memory = np.zeros((self.mem_size, *input_shape))\n",
    "        self.action_memory = np.zeros((self.mem_size, n_actions))\n",
    "        self.reward_memory = np.zeros(self.mem_size)\n",
    "        self.terminal_memory = np.zeros(self.mem_size, dtype=np.bool)\n",
    "\n",
    "    def store_transition(self, state, action, reward, state_, done):\n",
    "        index = self.mem_cntr % self.mem_size\n",
    "        self.state_memory[index] = state\n",
    "        self.action_memory[index] = action\n",
    "        self.reward_memory[index] = reward\n",
    "        self.new_state_memory[index] = state_\n",
    "        self.terminal_memory[index] = done\n",
    "\n",
    "        self.mem_cntr += 1\n",
    "\n",
    "    def sample_buffer(self, batch_size):\n",
    "        max_mem = min(self.mem_cntr, self.mem_size)\n",
    "\n",
    "        batch = np.random.choice(max_mem, batch_size)\n",
    "\n",
    "        states = self.state_memory[batch]\n",
    "        actions = self.action_memory[batch]\n",
    "        rewards = self.reward_memory[batch]\n",
    "        states_ = self.new_state_memory[batch]\n",
    "        dones = self.terminal_memory[batch]\n",
    "\n",
    "        return states, actions, rewards, states_, dones\n"
   ]
  },
  {
   "cell_type": "code",
   "execution_count": 14,
   "id": "242513bd",
   "metadata": {},
   "outputs": [],
   "source": [
    "class CriticNetwork(nn.Module):\n",
    "    def __init__(self, beta, input_dims, fc1_dims, fc2_dims, n_actions,\n",
    "            name, chkpt_dir='Models/td3'):\n",
    "        super(CriticNetwork, self).__init__()\n",
    "        self.input_dims = input_dims\n",
    "        self.fc1_dims = fc1_dims\n",
    "        self.fc2_dims = fc2_dims\n",
    "        self.n_actions = n_actions\n",
    "        self.name = name\n",
    "        self.checkpoint_dir = chkpt_dir\n",
    "        self.checkpoint_file = os.path.join(self.checkpoint_dir, name+'_td3')\n",
    "\n",
    "        # I think this breaks if the env has a 2D state representation\n",
    "        self.fc1 = nn.Linear(self.input_dims[0] + n_actions, self.fc1_dims)\n",
    "        self.fc2 = nn.Linear(self.fc1_dims, self.fc2_dims)\n",
    "        self.q1 = nn.Linear(self.fc2_dims, 1)\n",
    "\n",
    "        self.optimizer = optim.Adam(self.parameters(), lr=beta)\n",
    "        self.device = T.device('cuda:0' if T.cuda.is_available() else 'cpu')\n",
    "\n",
    "        self.to(self.device)\n",
    "\n",
    "    def forward(self, state, action):\n",
    "        q1_action_value = self.fc1(T.cat([state, action], dim=1))\n",
    "        q1_action_value = F.relu(q1_action_value)\n",
    "        q1_action_value = self.fc2(q1_action_value)\n",
    "        q1_action_value = F.relu(q1_action_value)\n",
    "\n",
    "        q1 = self.q1(q1_action_value)\n",
    "\n",
    "        return q1\n",
    "\n",
    "    def save_checkpoint(self):\n",
    "        print('... saving checkpoint ...')\n",
    "        T.save(self.state_dict(), self.checkpoint_file)\n",
    "\n",
    "    def load_checkpoint(self):\n",
    "        print('... loading checkpoint ...')\n",
    "        self.load_state_dict(T.load(self.checkpoint_file))"
   ]
  },
  {
   "cell_type": "code",
   "execution_count": 15,
   "id": "46d13912",
   "metadata": {},
   "outputs": [],
   "source": [
    "class ActorNetwork(nn.Module):\n",
    "    def __init__(self, alpha, input_dims, fc1_dims, fc2_dims,\n",
    "                n_actions, name, chkpt_dir='Models/td3'):\n",
    "        super(ActorNetwork, self).__init__()\n",
    "        self.input_dims = input_dims\n",
    "        self.fc1_dims = fc1_dims\n",
    "        self.fc2_dims = fc2_dims\n",
    "        self.n_actions = n_actions\n",
    "        self.name = name\n",
    "        self.checkpoint_dir = chkpt_dir\n",
    "        self.checkpoint_file = os.path.join(self.checkpoint_dir, name+'_td3')\n",
    "\n",
    "        self.fc1 = nn.Linear(*self.input_dims, self.fc1_dims)\n",
    "        self.fc2 = nn.Linear(self.fc1_dims, self.fc2_dims)\n",
    "        self.mu = nn.Linear(self.fc2_dims, self.n_actions)\n",
    "\n",
    "        self.optimizer = optim.Adam(self.parameters(), lr=alpha)\n",
    "        self.device = T.device('cuda:0' if T.cuda.is_available() else 'cpu')\n",
    "\n",
    "        self.to(self.device)\n",
    "\n",
    "    def forward(self, state):\n",
    "        prob = self.fc1(state)\n",
    "        prob = F.relu(prob)\n",
    "        prob = self.fc2(prob)\n",
    "        prob = F.relu(prob)\n",
    "\n",
    "        prob = T.tanh(self.mu(prob)) # if action is > +/- 1 then multiply by max action\n",
    "\n",
    "        return prob\n",
    "\n",
    "    def save_checkpoint(self):\n",
    "        print('... saving checkpoint ...')\n",
    "        T.save(self.state_dict(), self.checkpoint_file)\n",
    "\n",
    "    def load_checkpoint(self):\n",
    "        print('... loading checkpoint ...')\n",
    "        self.load_state_dict(T.load(self.checkpoint_file))\n"
   ]
  },
  {
   "cell_type": "code",
   "execution_count": null,
   "id": "c89ef1e3",
   "metadata": {},
   "outputs": [],
   "source": []
  },
  {
   "cell_type": "code",
   "execution_count": 16,
   "id": "45d927e3",
   "metadata": {},
   "outputs": [],
   "source": [
    "class Agent():\n",
    "    def __init__(self, alpha, beta, input_dims, tau, env,\n",
    "            gamma=0.99, update_actor_interval=2, warmup=1000,\n",
    "            n_actions=2, max_size=1000000, layer1_size=400,\n",
    "            layer2_size=300, batch_size=100, noise=0.1):\n",
    "        self.gamma = gamma\n",
    "        self.alpha = alpha\n",
    "        self.beta = beta\n",
    "        self.tau = tau\n",
    "        self.max_action = env.action_space.high\n",
    "        self.min_action = env.action_space.low\n",
    "        self.memory = ReplayBuffer(max_size, input_dims, n_actions)\n",
    "        self.batch_size = batch_size\n",
    "        self.learn_step_cntr = 0\n",
    "        self.time_step = 0\n",
    "        self.warmup = warmup\n",
    "        self.n_actions = n_actions\n",
    "        self.update_actor_iter = update_actor_interval\n",
    "\n",
    "        self.actor = ActorNetwork(self.alpha, input_dims, layer1_size,\n",
    "                                  layer2_size, n_actions=n_actions,\n",
    "                                  name='actor')\n",
    "        self.critic_1 = CriticNetwork(self.beta, input_dims, layer1_size,\n",
    "                                      layer2_size, n_actions=n_actions,\n",
    "                                      name='critic_1')\n",
    "        self.critic_2 = CriticNetwork(self.beta, input_dims, layer1_size,\n",
    "                                      layer2_size, n_actions=n_actions,\n",
    "                                      name='critic_2')\n",
    "\n",
    "        self.target_actor = ActorNetwork(self.alpha, input_dims, layer1_size,\n",
    "                                         layer2_size, n_actions=n_actions,\n",
    "                                         name='target_actor')\n",
    "        self.target_critic_1 = CriticNetwork(self.beta, input_dims, layer1_size,\n",
    "                                         layer2_size, n_actions=n_actions,\n",
    "                                         name='target_critic_1')\n",
    "        self.target_critic_2 = CriticNetwork(self.beta, input_dims, layer1_size,\n",
    "                                         layer2_size, n_actions=n_actions,\n",
    "                                         name='target_critic_2')\n",
    "\n",
    "        self.noise = noise\n",
    "        self.update_network_parameters(tau=1)\n",
    "\n",
    "    def choose_action(self, observation):\n",
    "        if self.time_step < self.warmup:\n",
    "            mu = T.tensor(np.random.normal(scale=self.noise, size=(self.n_actions,)))\n",
    "        else:\n",
    "            state = T.tensor(observation, dtype=T.float).to(self.actor.device)\n",
    "            mu = self.actor.forward(state).to(self.actor.device)\n",
    "        mu_prime = mu + T.tensor(np.random.normal(scale=self.noise),\n",
    "                dtype=T.float).to(self.actor.device)\n",
    "        mu_prime = T.clamp(mu_prime, self.min_action[0], self.max_action[0])\n",
    "        self.time_step += 1\n",
    "        return mu_prime.cpu().detach().numpy()\n",
    "\n",
    "    def remember(self, state, action, reward, new_state, done):\n",
    "        self.memory.store_transition(state, action, reward, new_state, done)\n",
    "\n",
    "    def learn(self):\n",
    "        if self.memory.mem_cntr < self.batch_size:\n",
    "            return\n",
    "\n",
    "        state, action, reward, new_state, done = \\\n",
    "                self.memory.sample_buffer(self.batch_size)\n",
    "\n",
    "        reward = T.tensor(reward, dtype=T.float).to(self.critic_1.device)\n",
    "        done = T.tensor(done).to(self.critic_1.device)\n",
    "        state_ = T.tensor(new_state, dtype=T.float).to(self.critic_1.device)\n",
    "        state = T.tensor(state, dtype=T.float).to(self.critic_1.device)\n",
    "        action = T.tensor(action, dtype=T.float).to(self.critic_1.device)\n",
    "\n",
    "        target_actions = self.target_actor.forward(state_)\n",
    "        target_actions = target_actions + \\\n",
    "                T.clamp(T.tensor(np.random.normal(scale=0.2)), -0.5, 0.5)\n",
    "        # might break if elements of min and max are not all equal\n",
    "        target_actions = T.clamp(target_actions, self.min_action[0], self.max_action[0])\n",
    "\n",
    "        q1_ = self.target_critic_1.forward(state_, target_actions)\n",
    "        q2_ = self.target_critic_2.forward(state_, target_actions)\n",
    "\n",
    "        q1 = self.critic_1.forward(state, action)\n",
    "        q2 = self.critic_2.forward(state, action)\n",
    "\n",
    "        q1_[done] = 0.0\n",
    "        q2_[done] = 0.0\n",
    "\n",
    "        q1_ = q1_.view(-1)\n",
    "        q2_ = q2_.view(-1)\n",
    "\n",
    "        critic_value_ = T.min(q1_, q2_)\n",
    "\n",
    "        target = reward + self.gamma*critic_value_\n",
    "        target = target.view(self.batch_size, 1)\n",
    "\n",
    "        self.critic_1.optimizer.zero_grad()\n",
    "        self.critic_2.optimizer.zero_grad()\n",
    "\n",
    "        q1_loss = F.mse_loss(target, q1)\n",
    "        q2_loss = F.mse_loss(target, q2)\n",
    "        critic_loss = q1_loss + q2_loss\n",
    "        critic_loss.backward()\n",
    "\n",
    "        self.critic_1.optimizer.step()\n",
    "        self.critic_2.optimizer.step()\n",
    "\n",
    "        self.learn_step_cntr += 1\n",
    "\n",
    "        if self.learn_step_cntr % self.update_actor_iter != 0:\n",
    "            return\n",
    "\n",
    "        self.actor.optimizer.zero_grad()\n",
    "        actor_q1_loss = self.critic_1.forward(state, self.actor.forward(state))\n",
    "        actor_loss = -T.mean(actor_q1_loss)\n",
    "        actor_loss.backward()\n",
    "        self.actor.optimizer.step()\n",
    "\n",
    "        self.update_network_parameters()\n",
    "\n",
    "    def update_network_parameters(self, tau=None):\n",
    "        if tau is None:\n",
    "            tau = self.tau\n",
    "\n",
    "        actor_params = self.actor.named_parameters()\n",
    "        critic_1_params = self.critic_1.named_parameters()\n",
    "        critic_2_params = self.critic_2.named_parameters()\n",
    "        target_actor_params = self.target_actor.named_parameters()\n",
    "        target_critic_1_params = self.target_critic_1.named_parameters()\n",
    "        target_critic_2_params = self.target_critic_2.named_parameters()\n",
    "\n",
    "        critic_1_state_dict = dict(critic_1_params)\n",
    "        critic_2_state_dict = dict(critic_2_params)\n",
    "        actor_state_dict = dict(actor_params)\n",
    "        target_actor_state_dict = dict(target_actor_params)\n",
    "        target_critic_1_state_dict = dict(target_critic_1_params)\n",
    "        target_critic_2_state_dict = dict(target_critic_2_params)\n",
    "\n",
    "        for name in critic_1_state_dict:\n",
    "            critic_1_state_dict[name] = tau*critic_1_state_dict[name].clone() + \\\n",
    "                    (1-tau)*target_critic_1_state_dict[name].clone()\n",
    "\n",
    "        for name in critic_2_state_dict:\n",
    "            critic_2_state_dict[name] = tau*critic_2_state_dict[name].clone() + \\\n",
    "                    (1-tau)*target_critic_2_state_dict[name].clone()\n",
    "\n",
    "        for name in actor_state_dict:\n",
    "            actor_state_dict[name] = tau*actor_state_dict[name].clone() + \\\n",
    "                    (1-tau)*target_actor_state_dict[name].clone()\n",
    "\n",
    "        self.target_critic_1.load_state_dict(critic_1_state_dict)\n",
    "        self.target_critic_2.load_state_dict(critic_2_state_dict)\n",
    "        self.target_actor.load_state_dict(actor_state_dict)\n",
    "\n",
    "    def save_models(self):\n",
    "        self.actor.save_checkpoint()\n",
    "        self.target_actor.save_checkpoint()\n",
    "        self.critic_1.save_checkpoint()\n",
    "        self.critic_2.save_checkpoint()\n",
    "        self.target_critic_1.save_checkpoint()\n",
    "        self.target_critic_2.save_checkpoint()\n",
    "\n",
    "    def load_models(self):\n",
    "        self.actor.load_checkpoint()\n",
    "        self.target_actor.load_checkpoint()\n",
    "        self.critic_1.load_checkpoint()\n",
    "        self.critic_2.load_checkpoint()\n",
    "        self.target_critic_1.load_checkpoint()\n",
    "        self.target_critic_2.load_checkpoint()"
   ]
  },
  {
   "cell_type": "code",
   "execution_count": 17,
   "id": "b8dce560",
   "metadata": {
    "scrolled": true
   },
   "outputs": [
    {
     "name": "stdout",
     "output_type": "stream",
     "text": [
      "... saving checkpoint ...\n",
      "... saving checkpoint ...\n",
      "... saving checkpoint ...\n",
      "... saving checkpoint ...\n",
      "... saving checkpoint ...\n",
      "... saving checkpoint ...\n",
      "Episode  0 Score -174.68 Average score -174.68 Average episode time 0.25 (sec)\n",
      "... saving checkpoint ...\n",
      "... saving checkpoint ...\n",
      "... saving checkpoint ...\n",
      "... saving checkpoint ...\n",
      "... saving checkpoint ...\n",
      "... saving checkpoint ...\n",
      "Episode  10 Score -863.95 Average score -265.65 Average episode time 1.31 (sec)\n",
      "Episode  20 Score -623.98 Average score -560.08 Average episode time 0.91 (sec)\n",
      "Episode  30 Score -531.27 Average score -487.67 Average episode time 0.96 (sec)\n",
      "Episode  40 Score -355.39 Average score -571.71 Average episode time 1.04 (sec)\n",
      "Episode  50 Score -854.02 Average score -521.35 Average episode time 0.89 (sec)\n",
      "Episode  60 Score -435.01 Average score -561.47 Average episode time 0.96 (sec)\n",
      "Episode  70 Score -531.76 Average score -595.70 Average episode time 0.99 (sec)\n",
      "Episode  80 Score -450.97 Average score -530.30 Average episode time 0.99 (sec)\n",
      "Episode  90 Score -770.85 Average score -550.54 Average episode time 1.16 (sec)\n",
      "Episode  100 Score -572.39 Average score -481.95 Average episode time 0.91 (sec)\n",
      "Episode  110 Score -419.74 Average score -565.62 Average episode time 0.99 (sec)\n",
      "Episode  120 Score -746.76 Average score -624.71 Average episode time 1.04 (sec)\n",
      "Episode  130 Score -616.60 Average score -547.20 Average episode time 1.04 (sec)\n",
      "Episode  140 Score -465.84 Average score -608.58 Average episode time 1.12 (sec)\n",
      "Episode  150 Score -366.52 Average score -530.05 Average episode time 0.96 (sec)\n",
      "Episode  160 Score -510.44 Average score -464.29 Average episode time 0.90 (sec)\n",
      "Episode  170 Score -320.65 Average score -530.98 Average episode time 0.93 (sec)\n",
      "Episode  180 Score -858.37 Average score -561.63 Average episode time 1.10 (sec)\n",
      "Episode  190 Score -583.94 Average score -543.94 Average episode time 1.01 (sec)\n",
      "Episode  200 Score -581.31 Average score -550.87 Average episode time 0.96 (sec)\n",
      "Episode  210 Score -455.86 Average score -531.57 Average episode time 0.96 (sec)\n",
      "Episode  220 Score -753.95 Average score -561.83 Average episode time 0.98 (sec)\n",
      "Episode  230 Score -606.95 Average score -626.68 Average episode time 1.09 (sec)\n",
      "Episode  240 Score -398.68 Average score -603.68 Average episode time 1.13 (sec)\n",
      "Episode  250 Score -624.94 Average score -533.65 Average episode time 1.05 (sec)\n",
      "Episode  260 Score -649.88 Average score -624.86 Average episode time 1.23 (sec)\n",
      "Episode  270 Score -776.33 Average score -493.64 Average episode time 0.93 (sec)\n",
      "Episode  280 Score -651.10 Average score -570.58 Average episode time 1.02 (sec)\n",
      "Episode  290 Score -717.45 Average score -485.45 Average episode time 0.88 (sec)\n",
      "Episode  300 Score -798.39 Average score -643.80 Average episode time 1.10 (sec)\n"
     ]
    }
   ],
   "source": [
    "env = gym.make('LunarLanderContinuous-v2')\n",
    "#env = gym.make('BipedalWalker-v2')\n",
    "env.seed(seed)\n",
    "agent = Agent(alpha=0.001, beta=0.001, \n",
    "                input_dims=env.observation_space.shape, tau=0.005,\n",
    "                env=env, batch_size=100, layer1_size=400, layer2_size=300,\n",
    "                n_actions=env.action_space.shape[0])\n",
    "n_games = 301\n",
    "filename = 'LunarLander_alpha_' + str(agent.alpha) + '_beta_' + \\\n",
    "            str(agent.beta) + '_' + str(n_games) + '_games'\n",
    "#filename = 'Walker_2D' + str(agent.alpha) + '_beta_' + \\\n",
    "#            str(agent.beta) + '_' + str(n_games) + '_games'\n",
    "\n",
    "best_score = env.reward_range[0]\n",
    "episode_time=[]\n",
    "score_history = []\n",
    "for i in range(n_games):\n",
    "    toc= time.time()\n",
    "    observation = env.reset()\n",
    "    done = False\n",
    "    score = 0\n",
    "    while not done:\n",
    "        action = agent.choose_action(observation)\n",
    "        observation_, reward, done, info = env.step(action)\n",
    "        agent.remember(observation, action, reward, observation_, done)\n",
    "        agent.learn()\n",
    "        score += reward\n",
    "        observation = observation_\n",
    "    score_history.append(score)\n",
    "    tic=time.time()\n",
    "    episode_time.append(tic-toc)\n",
    "    \n",
    "    intvl=10\n",
    "    avg_score = np.mean(score_history[-intvl:])\n",
    "    if avg_score > best_score:\n",
    "        best_score = avg_score\n",
    "        agent.save_models()\n",
    "\n",
    "    \n",
    "    if i % intvl == 0:        \n",
    "        avg_time = np.mean(episode_time[-intvl:])\n",
    "        print('Episode ', i, 'Score %.2f' % score, 'Average score %.2f' % avg_score, 'Average episode time %.2f' % avg_time, '(sec)')\n",
    "env.close()"
   ]
  },
  {
   "cell_type": "code",
   "execution_count": 18,
   "id": "742186ba",
   "metadata": {},
   "outputs": [
    {
     "name": "stdout",
     "output_type": "stream",
     "text": [
      "Time to complete %.2f 5.094084310531616 (minutes)\n"
     ]
    }
   ],
   "source": [
    "print('Time to complete %.2f', np.array(episode_time).sum()/60, '(minutes)')"
   ]
  },
  {
   "cell_type": "code",
   "execution_count": 19,
   "id": "37b44194",
   "metadata": {},
   "outputs": [
    {
     "data": {
      "image/png": "[encoded data removed]",
      "text/plain": [
       "<Figure size 432x288 with 1 Axes>"
      ]
     },
     "metadata": {
      "needs_background": "light"
     },
     "output_type": "display_data"
    }
   ],
   "source": [
    "x = [i+1 for i in range(len(score_history))]\n",
    "running_avg = np.zeros(len(score_history))\n",
    "for i in range(len(running_avg)):\n",
    "    running_avg[i] = np.mean(score_history[max(0, i-100):(i+1)])\n",
    "\n",
    "plt.plot(x, score_history, 'o', alpha=0.1)\n",
    "plt.plot(x, running_avg)\n",
    "plt.title('Reward over episodes')\n",
    "plt.ylabel(r'$Reward$')\n",
    "plt.xlabel(r'$Episode Number$')\n",
    "plt.show()"
   ]
  },
  {
   "cell_type": "code",
   "execution_count": 20,
   "id": "f8c63e06",
   "metadata": {},
   "outputs": [
    {
     "data": {
      "image/png": "[encoded data removed]",
      "text/plain": [
       "<Figure size 432x288 with 1 Axes>"
      ]
     },
     "metadata": {
      "needs_background": "light"
     },
     "output_type": "display_data"
    }
   ],
   "source": [
    "x = score_history\n",
    "y=episode_time\n",
    "plt.plot(x, y, 'o', alpha=0.1)\n",
    "\n",
    "plt.title('Time on each episode by Reward')\n",
    "plt.ylabel(r'$Time \\ (sec)$')\n",
    "plt.xlabel(r'$Reward$')\n",
    "plt.show()"
   ]
  },
  {
   "cell_type": "markdown",
   "id": "07b9bd19",
   "metadata": {},
   "source": [
    "# Fin"
   ]
  },
  {
   "cell_type": "code",
   "execution_count": 21,
   "id": "e34c48ef",
   "metadata": {},
   "outputs": [
    {
     "name": "stdout",
     "output_type": "stream",
     "text": [
      "Finished: Monday October 18, 2021 at 13:48\n"
     ]
    }
   ],
   "source": [
    "end=dt.datetime.now()\n",
    "print(f'Finished: {end.strftime(\"%A %B %d, %Y\")} at {end.strftime(\"%H:%M\")}')"
   ]
  }
 ],
 "metadata": {
  "kernelspec": {
   "display_name": "Python 3",
   "language": "python",
   "name": "python3"
  },
  "language_info": {
   "codemirror_mode": {
    "name": "ipython",
    "version": 3
   },
   "file_extension": ".py",
   "mimetype": "text/x-python",
   "name": "python",
   "nbconvert_exporter": "python",
   "pygments_lexer": "ipython3",
   "version": "3.6.13"
  }
 },
 "nbformat": 4,
 "nbformat_minor": 5
}
