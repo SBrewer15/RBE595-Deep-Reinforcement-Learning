{
 "cells": [
  {
   "cell_type": "code",
   "execution_count": 1,
   "id": "66ab7b15",
   "metadata": {},
   "outputs": [
    {
     "data": {
      "text/html": [
       "<style>.container { width:90% !important; }</style>"
      ],
      "text/plain": [
       "<IPython.core.display.HTML object>"
      ]
     },
     "metadata": {},
     "output_type": "display_data"
    }
   ],
   "source": [
    "# Makes the display take up more of the screen\n",
    "from IPython.core.display import display, HTML\n",
    "display(HTML(\"<style>.container { width:90% !important; }</style>\"))"
   ]
  },
  {
   "cell_type": "code",
   "execution_count": 2,
   "id": "6a3f55bd",
   "metadata": {},
   "outputs": [],
   "source": [
    "import gym\n",
    "import matplotlib.pyplot as plt\n",
    "import numpy as np"
   ]
  },
  {
   "cell_type": "code",
   "execution_count": 3,
   "id": "3189c076",
   "metadata": {},
   "outputs": [],
   "source": [
    "class Agent():\n",
    "    def __init__(self, lr, gamma, n_actions, state_space, eps_start, eps_end,\n",
    "                 eps_dec):\n",
    "        self.lr = lr\n",
    "        self.gamma = gamma\n",
    "        self.actions = [i for i in range(n_actions)]\n",
    "        self.states = state_space\n",
    "        self.epsilon = eps_start\n",
    "        self.eps_min = eps_end\n",
    "        self.eps_dec = eps_dec\n",
    "\n",
    "        self.Q = {}\n",
    "\n",
    "        self.init_Q()\n",
    "\n",
    "    def init_Q(self):\n",
    "        for state in self.states:\n",
    "            for action in self.actions:\n",
    "                self.Q[(state, action)] = 0.0\n",
    "\n",
    "    def max_action(self, state):\n",
    "        actions = np.array([self.Q[(state, a)] for a in self.actions])\n",
    "        action = np.argmax(actions)\n",
    "\n",
    "        return action\n",
    "\n",
    "    def choose_action(self, state):\n",
    "        if np.random.random() < self.epsilon:\n",
    "            action = np.random.choice(self.actions)\n",
    "        else:\n",
    "            action = self.max_action(state)\n",
    "\n",
    "        return action\n",
    "\n",
    "    def decrement_epsilon(self):\n",
    "        self.epsilon = self.epsilon - self.eps_dec \\\n",
    "                if self.epsilon>self.eps_min else self.eps_min\n",
    "\n",
    "    def learn(self, state, action, reward, state_):\n",
    "        a_max = self.max_action(state_)\n",
    "\n",
    "        self.Q[(state, action)] = self.Q[(state, action)] + self.lr*(reward +\n",
    "                                        self.gamma*self.Q[(state_, a_max)] -\n",
    "                                        self.Q[(state, action)])"
   ]
  },
  {
   "cell_type": "code",
   "execution_count": 4,
   "id": "14b14118",
   "metadata": {},
   "outputs": [],
   "source": [
    "class CartPoleStateDigitizer():\n",
    "    def __init__(self, bounds=(2.4, 4, 0.209, 4), n_bins=10):\n",
    "        \"\"\"  \n",
    "            bounds - bounds for linear space. Single floating point number for\n",
    "                     each observation element. Space is from -bound to +bound\n",
    "                     observation -> x, dx/dt, theta, dtheta/dt\n",
    "        \"\"\"\n",
    "        self.position_space = np.linspace(-1*bounds[0], bounds[0], n_bins)\n",
    "        self.velocity_space = np.linspace(-1*bounds[1], bounds[1], n_bins)\n",
    "        self.pole_angle_space = np.linspace(-1*bounds[2], bounds[2], n_bins)\n",
    "        self.pole_velocity_space = np.linspace(-1*bounds[3], bounds[3], n_bins)\n",
    "        self.states = self.get_state_space()\n",
    "\n",
    "    def get_state_space(self):\n",
    "        states = []\n",
    "        for i in range(len(self.position_space)+1):\n",
    "            for j in range(len(self.velocity_space)+1):\n",
    "                for k in range(len(self.pole_angle_space)+1):\n",
    "                    for l in range(len(self.pole_velocity_space)+1):\n",
    "                        states.append((i,j,k,l))\n",
    "        return states\n",
    "\n",
    "    def digitize(self, observation):\n",
    "        x, dx_dt, theta, dtheta_dt = observation\n",
    "        cart_x = int(np.digitize(x, self.position_space))\n",
    "        cart_dx_dt = int(np.digitize(dx_dt, self.velocity_space))\n",
    "        pole_theta = int(np.digitize(theta, self.pole_angle_space))\n",
    "        pole_dtheta_dt = int(np.digitize(dtheta_dt, self.pole_velocity_space))\n",
    "\n",
    "        return (cart_x, cart_dx_dt, pole_theta, pole_dtheta_dt)"
   ]
  },
  {
   "cell_type": "code",
   "execution_count": 5,
   "id": "57328250",
   "metadata": {},
   "outputs": [],
   "source": [
    "def plot_learning_curve(scores, x):\n",
    "    running_avg = np.zeros(len(scores))\n",
    "    for i in range(len(running_avg)):\n",
    "        running_avg[i] = np.mean(scores[max(0, i-100):(i+1)])\n",
    "    plt.plot(x, running_avg)\n",
    "    plt.title('Running average of scores')\n",
    "    plt.show()"
   ]
  },
  {
   "cell_type": "code",
   "execution_count": 6,
   "id": "57fb095a",
   "metadata": {},
   "outputs": [
    {
     "name": "stdout",
     "output_type": "stream",
     "text": [
      "episode  0 score 28.0 epsilon 1.00\n",
      "episode  5000 score 24.0 epsilon 0.67\n",
      "episode  10000 score 67.0 epsilon 0.33\n",
      "episode  15000 score 122.0 epsilon 0.01\n",
      "episode  20000 score 141.0 epsilon 0.01\n",
      "episode  25000 score 106.0 epsilon 0.01\n"
     ]
    }
   ],
   "source": [
    "env = gym.make('CartPole-v0')\n",
    "n_games = 30000\n",
    "eps_dec =  2 / n_games\n",
    "digitizer = CartPoleStateDigitizer()\n",
    "agent = Agent(lr=0.01, gamma=0.99, n_actions=2, eps_start=1.0,\n",
    "        eps_end=0.01, eps_dec=eps_dec, state_space=digitizer.states)\n",
    "\n",
    "scores = []\n",
    "\n",
    "for i in range(n_games):\n",
    "    observation = env.reset()\n",
    "    done = False\n",
    "    score = 0\n",
    "    state = digitizer.digitize(observation)\n",
    "    while not done:\n",
    "        action = agent.choose_action(state)\n",
    "        observation_, reward, done, info = env.step(action)\n",
    "        state_ = digitizer.digitize(observation_)\n",
    "        agent.learn(state, action, reward, state_)\n",
    "        state = state_\n",
    "        score += reward\n",
    "    if i % 5000 == 0:\n",
    "        print('episode ', i, 'score %.1f' % score, \n",
    "              'epsilon %.2f' % agent.epsilon)\n",
    "\n",
    "    agent.decrement_epsilon()\n",
    "    scores.append(score)"
   ]
  },
  {
   "cell_type": "code",
   "execution_count": 7,
   "id": "1fef766b",
   "metadata": {},
   "outputs": [
    {
     "data": {
      "image/png": "[encoded data removed]",
      "text/plain": [
       "<Figure size 432x288 with 1 Axes>"
      ]
     },
     "metadata": {
      "needs_background": "light"
     },
     "output_type": "display_data"
    }
   ],
   "source": [
    "x = [i + 1 for i in range(n_games)]\n",
    "plot_learning_curve(scores, x)"
   ]
  },
  {
   "cell_type": "code",
   "execution_count": 8,
   "id": "01cca209",
   "metadata": {},
   "outputs": [
    {
     "name": "stdout",
     "output_type": "stream",
     "text": [
      "Finished: Saturday February 12, 2022 at 14:40\n"
     ]
    }
   ],
   "source": [
    "import datetime as dt\n",
    "end=dt.datetime.now()\n",
    "print(f'Finished: {end.strftime(\"%A %B %d, %Y\")} at {end.strftime(\"%H:%M\")}')"
   ]
  }
 ],
 "metadata": {
  "kernelspec": {
   "display_name": "Python 3 (ipykernel)",
   "language": "python",
   "name": "python3"
  },
  "language_info": {
   "codemirror_mode": {
    "name": "ipython",
    "version": 3
   },
   "file_extension": ".py",
   "mimetype": "text/x-python",
   "name": "python",
   "nbconvert_exporter": "python",
   "pygments_lexer": "ipython3",
   "version": "3.7.11"
  }
 },
 "nbformat": 4,
 "nbformat_minor": 5
}
