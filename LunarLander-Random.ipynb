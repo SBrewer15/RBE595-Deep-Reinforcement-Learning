{
 "cells": [
  {
   "cell_type": "code",
   "execution_count": 1,
   "id": "f37bf4ab",
   "metadata": {},
   "outputs": [
    {
     "data": {
      "text/html": [
       "<style>.container { width:90% !important; }</style>"
      ],
      "text/plain": [
       "<IPython.core.display.HTML object>"
      ]
     },
     "metadata": {},
     "output_type": "display_data"
    }
   ],
   "source": [
    "# Makes the display take up more of the screen\n",
    "from IPython.core.display import display, HTML\n",
    "display(HTML(\"<style>.container { width:90% !important; }</style>\"))"
   ]
  },
  {
   "cell_type": "code",
   "execution_count": 2,
   "id": "851fbddd",
   "metadata": {},
   "outputs": [],
   "source": [
    "import gym\n",
    "import matplotlib.pyplot as plt\n",
    "import numpy as np"
   ]
  },
  {
   "cell_type": "code",
   "execution_count": 6,
   "id": "3119f862",
   "metadata": {
    "scrolled": true
   },
   "outputs": [
    {
     "name": "stdout",
     "output_type": "stream",
     "text": [
      "episode  0 score -395.7\n",
      "episode  1 score -167.3\n",
      "episode  2 score -193.3\n",
      "episode  3 score -69.3\n",
      "episode  4 score -406.7\n",
      "episode  5 score -144.3\n",
      "episode  6 score -132.5\n",
      "episode  7 score -194.9\n",
      "episode  8 score -62.6\n",
      "episode  9 score -151.1\n",
      "episode  10 score -90.8\n",
      "episode  11 score 17.8\n",
      "episode  12 score -173.9\n",
      "episode  13 score -96.0\n",
      "episode  14 score -28.2\n",
      "episode  15 score -343.3\n",
      "episode  16 score -119.0\n",
      "episode  17 score -262.0\n",
      "episode  18 score -229.3\n",
      "episode  19 score -307.8\n",
      "episode  20 score -139.2\n",
      "episode  21 score -221.0\n",
      "episode  22 score -113.3\n",
      "episode  23 score -287.4\n",
      "episode  24 score -247.2\n",
      "episode  25 score -167.5\n",
      "episode  26 score 16.8\n",
      "episode  27 score -113.1\n",
      "episode  28 score -99.7\n",
      "episode  29 score -77.4\n",
      "episode  30 score -176.6\n",
      "episode  31 score -84.3\n",
      "episode  32 score -109.1\n",
      "episode  33 score -264.3\n",
      "episode  34 score -104.4\n",
      "episode  35 score -146.4\n",
      "episode  36 score -107.4\n",
      "episode  37 score -109.0\n",
      "episode  38 score -136.2\n",
      "episode  39 score -154.5\n",
      "episode  40 score -383.3\n",
      "episode  41 score -241.9\n",
      "episode  42 score -115.4\n",
      "episode  43 score -252.4\n",
      "episode  44 score -114.0\n",
      "episode  45 score -435.2\n",
      "episode  46 score -235.4\n",
      "episode  47 score -376.8\n",
      "episode  48 score -241.0\n",
      "episode  49 score -76.5\n",
      "episode  50 score -105.5\n",
      "episode  51 score -131.1\n",
      "episode  52 score -153.2\n",
      "episode  53 score -145.3\n",
      "episode  54 score -115.9\n",
      "episode  55 score -64.2\n",
      "episode  56 score -196.1\n",
      "episode  57 score -251.9\n",
      "episode  58 score -82.0\n",
      "episode  59 score -226.5\n",
      "episode  60 score -232.9\n",
      "episode  61 score -109.1\n",
      "episode  62 score -88.8\n",
      "episode  63 score -261.1\n",
      "episode  64 score -119.2\n",
      "episode  65 score -89.9\n",
      "episode  66 score -174.8\n",
      "episode  67 score -154.1\n",
      "episode  68 score -81.6\n",
      "episode  69 score -170.2\n",
      "episode  70 score -270.9\n",
      "episode  71 score -382.2\n",
      "episode  72 score -152.9\n",
      "episode  73 score -70.5\n",
      "episode  74 score -106.0\n",
      "episode  75 score -101.6\n",
      "episode  76 score -109.1\n",
      "episode  77 score -335.4\n",
      "episode  78 score -286.4\n",
      "episode  79 score -86.4\n",
      "episode  80 score -160.1\n",
      "episode  81 score -169.6\n",
      "episode  82 score -101.4\n",
      "episode  83 score -84.8\n",
      "episode  84 score -123.1\n",
      "episode  85 score -223.4\n",
      "episode  86 score -16.9\n",
      "episode  87 score -98.4\n",
      "episode  88 score -141.8\n",
      "episode  89 score -107.0\n",
      "episode  90 score -409.9\n",
      "episode  91 score -96.7\n",
      "episode  92 score -369.2\n",
      "episode  93 score -199.3\n",
      "episode  94 score -294.5\n",
      "episode  95 score -198.5\n",
      "episode  96 score -97.6\n",
      "episode  97 score -170.2\n",
      "episode  98 score -192.2\n",
      "episode  99 score -399.4\n"
     ]
    }
   ],
   "source": [
    "env = gym.make('LunarLander-v2')\n",
    "Render=False\n",
    "n_games = 100\n",
    "\n",
    "for i in range(n_games):\n",
    "    obs = env.reset()\n",
    "    score = 0\n",
    "    done = False\n",
    "    while not done:\n",
    "        action = env.action_space.sample()\n",
    "        obs_, reward, done, info = env.step(action)\n",
    "        score += reward\n",
    "        if Render==True: env.render()\n",
    "    print('episode ', i, 'score %.1f' % score)\n",
    "    \n",
    "if Render==True: env.close()"
   ]
  },
  {
   "cell_type": "code",
   "execution_count": 7,
   "id": "79e7609e",
   "metadata": {},
   "outputs": [],
   "source": []
  },
  {
   "cell_type": "code",
   "execution_count": null,
   "id": "739b8bd6",
   "metadata": {},
   "outputs": [],
   "source": []
  }
 ],
 "metadata": {
  "kernelspec": {
   "display_name": "Python 3",
   "language": "python",
   "name": "python3"
  },
  "language_info": {
   "codemirror_mode": {
    "name": "ipython",
    "version": 3
   },
   "file_extension": ".py",
   "mimetype": "text/x-python",
   "name": "python",
   "nbconvert_exporter": "python",
   "pygments_lexer": "ipython3",
   "version": "3.6.13"
  }
 },
 "nbformat": 4,
 "nbformat_minor": 5
}
