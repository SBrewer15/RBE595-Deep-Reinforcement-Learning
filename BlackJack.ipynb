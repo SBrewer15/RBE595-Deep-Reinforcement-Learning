{
 "cells": [
  {
   "cell_type": "code",
   "execution_count": 1,
   "id": "36c072ca",
   "metadata": {},
   "outputs": [
    {
     "data": {
      "text/html": [
       "<style>.container { width:90% !important; }</style>"
      ],
      "text/plain": [
       "<IPython.core.display.HTML object>"
      ]
     },
     "metadata": {},
     "output_type": "display_data"
    }
   ],
   "source": [
    "# Makes the display take up more of the screen\n",
    "from IPython.core.display import display, HTML\n",
    "display(HTML(\"<style>.container { width:90% !important; }</style>\"))"
   ]
  },
  {
   "cell_type": "code",
   "execution_count": 2,
   "id": "af674096",
   "metadata": {},
   "outputs": [],
   "source": [
    "import numpy as np"
   ]
  },
  {
   "cell_type": "code",
   "execution_count": 10,
   "id": "227326bb",
   "metadata": {},
   "outputs": [],
   "source": [
    "class Agent():\n",
    "    def __init__(self, eps=0.1, gamma=0.99):\n",
    "        self.Q={}\n",
    "        self.sum_space= [i for i in range(4,22)]\n",
    "        self.dealer_show_card_space= [i+1 for i in range(10)]\n",
    "        self.ace_space= [False, True]\n",
    "        self.action_space= [0,1] # stick or hit\n",
    "        \n",
    "        self.state_space = []\n",
    "        self.memory = []\n",
    "        self.pairs_visited = {}\n",
    "        self.returns = {}\n",
    "        \n",
    "        self.gamma = gamma\n",
    "        self.eps = eps\n",
    "        \n",
    "        self.init_vals()\n",
    "        self.init_policy()\n",
    "        \n",
    "    def init_vals(self):\n",
    "        for total in self.sum_space:\n",
    "            for card in self.dealer_show_card_space:\n",
    "                for ace in self.ace_space:\n",
    "                    state = (total, card, ace)\n",
    "                    self.state_space.append(state)\n",
    "                    for action in self.action_space:\n",
    "                        self.Q[(state, action)]=0\n",
    "                        self.returns[(state, action)]=[]\n",
    "                        self.pairs_visited[(state, action)]=0\n",
    "    \n",
    "    def init_policy(self):\n",
    "        policy={}\n",
    "        n = len(self.action_space)\n",
    "        for state in self.state_space:\n",
    "            policy[state]= [1/n for _ in range(n)]\n",
    "            \n",
    "        self.policy = policy\n",
    "        \n",
    "    def choose_action(self, state):\n",
    "        action = np.random.choice(self.action_space, p = self.policy[state])\n",
    "        return action\n",
    "    \n",
    "    def update_Q(self):\n",
    "        for idt, (state, action, _) in enumerate(self.memory):\n",
    "            G = 0\n",
    "            discount = 1\n",
    "            if self.pairs_visited[(state,action)]==0:\n",
    "                self.pairs_visited[(state, action)]+=1\n",
    "                for t, (_, _, reward) in enumerate(self.memory[idt:]):\n",
    "                    G+= reward *discount\n",
    "                    discount *=self.gamma\n",
    "                    self.returns[(state, action)].append(G)\n",
    "                    \n",
    "        for state, action, _ in self.memory:\n",
    "            self.Q[(state, action)] = np.mean(self.returns[(state, action)])\n",
    "            self.update_policy(state)\n",
    "            \n",
    "        for state_action in self.pairs_visited.keys():\n",
    "            self.pairs_visited[state_action] = 0\n",
    "            \n",
    "        self.memory=[]\n",
    "            \n",
    "    def update_policy(self, state):\n",
    "        actions = [self.Q[(state, a)] for a in self.action_space]\n",
    "        a_max = np.argmax(actions)\n",
    "        n_actions = len(self.action_space)\n",
    "        probs=[]\n",
    "        for action in self.action_space:\n",
    "            prob = 1 - self.eps + self.eps / n_actions if action == a_max else self.eps /n_actions\n",
    "            probs.append(prob)\n",
    "            \n",
    "        self.policy[state] = probs"
   ]
  },
  {
   "cell_type": "code",
   "execution_count": 22,
   "id": "7735c2da",
   "metadata": {},
   "outputs": [],
   "source": [
    "import gym\n",
    "import matplotlib.pyplot as plt"
   ]
  },
  {
   "cell_type": "code",
   "execution_count": 19,
   "id": "c4c9906d",
   "metadata": {},
   "outputs": [],
   "source": [
    "env = gym.make('Blackjack-v0')\n",
    "agent = Agent(eps=0.001)\n",
    "n_episodes = 20000\n",
    "win_lose_draw = {-1:0,0:0, 1:0}\n",
    "win_rate = []\n",
    "for i in range(n_episodes):\n",
    "    if i >0 and i %100 ==0:\n",
    "        pct = win_lose_draw[1]/i\n",
    "        win_rate.append(pct)\n",
    "    if 1 % 50000==0:\n",
    "        rates = win_rates[-1] if win_rates else 0.0\n",
    "        print(f'starting episode {i}, win rate {round(rates,3)}')        \n",
    "    observation = env.reset()\n",
    "    done= False\n",
    "    while not done:\n",
    "        action = agent.choose_action(observation)\n",
    "        observation_, reward, done, info = env.step(action)\n",
    "        agent.memory.append((observation, action , reward))\n",
    "        observation = observation_\n",
    "    agent.update_Q()\n",
    "    win_lose_draw[reward] +=1\n",
    "    "
   ]
  },
  {
   "cell_type": "code",
   "execution_count": 23,
   "id": "1ad8c695",
   "metadata": {},
   "outputs": [
    {
     "data": {
      "image/png": "[encoded data removed]",
      "text/plain": [
       "<Figure size 432x288 with 1 Axes>"
      ]
     },
     "metadata": {
      "needs_background": "light"
     },
     "output_type": "display_data"
    }
   ],
   "source": [
    "plt.plot(win_rate)\n",
    "plt.show()"
   ]
  },
  {
   "cell_type": "code",
   "execution_count": null,
   "id": "a0d54cbc",
   "metadata": {},
   "outputs": [],
   "source": []
  },
  {
   "cell_type": "code",
   "execution_count": null,
   "id": "262288dd",
   "metadata": {},
   "outputs": [],
   "source": []
  }
 ],
 "metadata": {
  "kernelspec": {
   "display_name": "Python 3",
   "language": "python",
   "name": "python3"
  },
  "language_info": {
   "codemirror_mode": {
    "name": "ipython",
    "version": 3
   },
   "file_extension": ".py",
   "mimetype": "text/x-python",
   "name": "python",
   "nbconvert_exporter": "python",
   "pygments_lexer": "ipython3",
   "version": "3.6.13"
  }
 },
 "nbformat": 4,
 "nbformat_minor": 5
}
